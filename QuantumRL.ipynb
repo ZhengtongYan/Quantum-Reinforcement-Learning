{
 "cells": [
  {
   "cell_type": "markdown",
   "metadata": {
    "colab_type": "text",
    "id": "view-in-github"
   },
   "source": [
    "<a href=\"https://colab.research.google.com/github/francescomontagna/Quantum-Reinforcement-Learning/blob/main/QuantumRL.ipynb\" target=\"_parent\"><img src=\"https://colab.research.google.com/assets/colab-badge.svg\" alt=\"Open In Colab\"/></a>"
   ]
  },
  {
   "cell_type": "markdown",
   "metadata": {
    "id": "eNsunVDOmIM2"
   },
   "source": [
    "# Google QuantumAI"
   ]
  },
  {
   "cell_type": "markdown",
   "metadata": {
    "id": "iDU__H-6mNf9"
   },
   "source": [
    "## Install"
   ]
  },
  {
   "cell_type": "code",
   "execution_count": null,
   "metadata": {
    "colab": {
     "base_uri": "https://localhost:8080/"
    },
    "id": "_YQgeiVZmK4_",
    "outputId": "6b9cd25a-b37a-442c-da38-9cb24f6f9d73"
   },
   "outputs": [],
   "source": [
    "try:\n",
    "    import cirq\n",
    "    from cirq import Simulator\n",
    "except ImportError:\n",
    "    print(\"installing cirq...\")\n",
    "    !pip install --quiet cirq\n",
    "    print(\"installed cirq.\")\n",
    "    \n",
    "    import cirq\n",
    "    from cirq import Simulator"
   ]
  },
  {
   "cell_type": "markdown",
   "metadata": {
    "id": "AQ05rJZRmPcL"
   },
   "source": [
    "## Imports"
   ]
  },
  {
   "cell_type": "markdown",
   "metadata": {
    "id": "D7ywYaaLPmtL"
   },
   "source": [
    "# Imports"
   ]
  },
  {
   "cell_type": "code",
   "execution_count": null,
   "metadata": {
    "id": "ETGJGzcDIxwC"
   },
   "outputs": [],
   "source": [
    "import time\n",
    "import math\n",
    "import cmath\n",
    "import random\n",
    "import numpy as np\n",
    "import pandas as pd\n",
    "import matplotlib.pyplot as plt\n",
    "import seaborn as sns\n",
    "from matplotlib import cm\n",
    "from functools import reduce\n",
    "from sklearn.model_selection import ParameterGrid"
   ]
  },
  {
   "cell_type": "markdown",
   "metadata": {
    "id": "BWCQSEmAOUI3"
   },
   "source": [
    "# Introduction\n",
    "## Problems\n",
    "- Since we can access the features, and know the transition probability from a state to another, this RL protocol is model based.\n",
    "Note that this is in contrast with the uncertainty about a quantum state from the observator point of view: an observator can only access the collapsed state, having no access to the amplitudes. \n",
    "\n",
    "In the paper Girolami sent me, they explicitly account for this fact, setting up a model free protocol.  \n",
    "\n",
    "\n",
    "## Reward\n",
    "Il principale problema è la formulzione della reward. per ora, l'unica soluzione tale da portare risultati accettabili è stata:\n",
    "- reward = \"grande\" per stato terminal\n",
    "- reward < 0 per stato non terminal  \n",
    "\n",
    "L'aggiunta di reward negativa a punire ogni step che non portasse a uno stato terminale, è stato cruciale. Infatti, ho usato altri tipi di reward, ma tutte fallimentari  \n",
    "- fidelity\n",
    "- fidelity per stato terminale, altrimenti 0\n",
    "- \"grande\" per stato terminale, altrimenti 0  "
   ]
  },
  {
   "cell_type": "markdown",
   "metadata": {
    "id": "K_8rsT6Mr7Zy"
   },
   "source": [
    "## Off Policy\n",
    "Sono dovuto ricorrere a un'approccio off policy, in quanto un approccio on policy non garantiva esplorazione sufficiente in uno spazio di ricerca così vasto. I risultati erano fortemente limitati, la matrice dei weight non vedeva mai alcune azioni, il cui valore rimaneva 0 per ogni features. I risultati erano in media peggiori di un' approccio Random.  \n",
    "Andando a usare una bahaviour policy completamente randomica, e una target policy completamente greedy, i risultati sono notavolmente migliorati. "
   ]
  },
  {
   "cell_type": "markdown",
   "metadata": {
    "id": "t-LCGYpUPpTm"
   },
   "source": [
    "# Quantum Setup"
   ]
  },
  {
   "cell_type": "markdown",
   "metadata": {
    "id": "NV8sEgIgZisp"
   },
   "source": [
    "### Qubit"
   ]
  },
  {
   "cell_type": "code",
   "execution_count": null,
   "metadata": {
    "id": "DjboXlFWG5EK"
   },
   "outputs": [],
   "source": [
    "class Qubit:\n",
    "    def __init__(self, amplitudes):\n",
    "        \"\"\"\n",
    "        Args:\n",
    "          amplitudes (np.array): amplitudes of the |0>, |1> vectors\n",
    "        \"\"\"\n",
    "        error = \"Error: sum of squared amplitudes must be = 1\"\n",
    "        assert math.isclose(\n",
    "            reduce(lambda a, b: a + b, map(lambda a: abs(a) ** 2, amplitudes)),\n",
    "            1,\n",
    "            rel_tol=1e-2,\n",
    "        ), error\n",
    "        self._amplitudes = amplitudes\n",
    "\n",
    "    def qubit(self):\n",
    "        return self._amplitudes\n",
    "\n",
    "\n",
    "class Basis(Qubit):\n",
    "    def __init__(self, index):\n",
    "        \"\"\"\n",
    "        Z operator Basis\n",
    "        Args:\n",
    "          index: index of the position = 1\n",
    "        \"\"\"\n",
    "        amplitudes = np.zeros((2,))\n",
    "        amplitudes[index] += 1\n",
    "        super().__init__(amplitudes)"
   ]
  },
  {
   "cell_type": "markdown",
   "metadata": {
    "id": "hnWqxby5ZfY_"
   },
   "source": [
    "### Quantum State"
   ]
  },
  {
   "cell_type": "code",
   "execution_count": null,
   "metadata": {
    "id": "yRBaWNuZyhgp"
   },
   "outputs": [],
   "source": [
    "class QuantumState:\n",
    "    def __init__(self, amplitudes):\n",
    "\n",
    "        # We assume computational basis\n",
    "        self._basis = {\n",
    "            \"00\": [Basis(0), Basis(0)],\n",
    "            \"01\": [Basis(0), Basis(1)],\n",
    "            \"10\": [Basis(1), Basis(0)],\n",
    "            \"11\": [Basis(1), Basis(1)],\n",
    "        }\n",
    "\n",
    "        a1, a2, a3, a4 = amplitudes\n",
    "        self._amplitudes = {\"00\": a1, \"01\": a2, \"10\": a3, \"11\": a4}\n",
    "\n",
    "        self._keys = list(self._basis.keys())\n",
    "\n",
    "        error = \"Error: sum of squared amplitudes must be = 1\"\n",
    "        val = reduce(lambda a, b: a + b, map(lambda a: abs(a) ** 2, amplitudes))\n",
    "        assert math.isclose(val, 1, rel_tol=1e-2), error + f\" instead is {val}\"\n",
    "\n",
    "    def get_amplitudes(self):\n",
    "        return np.array(list(self._amplitudes.values()))\n",
    "\n",
    "    def get_features(self):\n",
    "        real = np.real(list(self.get_amplitudes()))\n",
    "        imag = np.imag(list(self.get_amplitudes()))\n",
    "        return np.concatenate((real, imag))\n",
    "\n",
    "    def apply_gate(self, gate, inplace=False):\n",
    "        updated_amplitudes = gate.apply(self)\n",
    "        if inplace:\n",
    "            self._amplitudes = updated_amplitudes\n",
    "            return None\n",
    "\n",
    "        return QuantumState(list(updated_amplitudes.values()))\n",
    "\n",
    "    def fidelity_score(self, other):\n",
    "        # TODO: check on nielsen\n",
    "        # This implementation is from paper\n",
    "        \"\"\"\n",
    "        Args:\n",
    "          other (QuantumState): measure the fidelity between self and another quantum state\n",
    "        Return:\n",
    "          fidelity (float): fidelity score between [0, 1]\n",
    "        \"\"\"\n",
    "        # Inner product can be computed in terms of matrix representation. Page 67 Nielsen-Chuang\n",
    "        return np.square(\n",
    "            abs(np.matmul(np.conj(self.get_amplitudes()), other.get_amplitudes()))\n",
    "        )"
   ]
  },
  {
   "cell_type": "markdown",
   "metadata": {
    "id": "rboUEAK3ZbWt"
   },
   "source": [
    "### Quantum Gates"
   ]
  },
  {
   "cell_type": "code",
   "execution_count": null,
   "metadata": {
    "id": "-HOc4Ouiockr"
   },
   "outputs": [],
   "source": [
    "class QuantumGate:\n",
    "    def __init__(self, name, unitary, target):\n",
    "        \"\"\"\n",
    "        Args:\n",
    "          unitary: 2x2 unitary operator\n",
    "          target: 0 or 1 to denote the qubit the matrix is acting on\n",
    "        \"\"\"\n",
    "        self._name = name\n",
    "        self._U = unitary.flatten()\n",
    "        self._target = target\n",
    "\n",
    "    def apply(self, quantum_state):\n",
    "        \"\"\"\n",
    "        Args:\n",
    "          quantum_state (QuantumState): quantum state to which apply the quantum operator\n",
    "        Return:\n",
    "          updated (dict): didctionary with updated amplitudes\n",
    "        \"\"\"\n",
    "        # Directly implement update rule on the amplitudes for a 2 qubits case.\n",
    "        # NOTE: This approach is not scalable! Refine or use qiskit for more than 2 qubits\n",
    "        a_00, a_01, a_10, a_11 = quantum_state.get_amplitudes()\n",
    "        updated = dict()\n",
    "\n",
    "        if self._target == 0:\n",
    "            updated[\"00\"] = self._U[0] * a_00 + self._U[1] * a_10\n",
    "            updated[\"01\"] = self._U[0] * a_01 + self._U[1] * a_11\n",
    "            updated[\"10\"] = self._U[2] * a_00 + self._U[3] * a_10\n",
    "            updated[\"11\"] = self._U[2] * a_01 + self._U[3] * a_11\n",
    "\n",
    "        else:\n",
    "            updated[\"00\"] = self._U[0] * a_00 + self._U[1] * a_01\n",
    "            updated[\"01\"] = self._U[2] * a_00 + self._U[3] * a_01\n",
    "            updated[\"10\"] = self._U[0] * a_10 + self._U[1] * a_11\n",
    "            updated[\"11\"] = self._U[2] * a_10 + self._U[3] * a_11\n",
    "\n",
    "        # Check if amplitudes still satisfy condition\n",
    "        normalization = reduce(\n",
    "            lambda a, b: a + b, map(lambda a: abs(a) ** 2, updated.values())\n",
    "        )\n",
    "        error = f\"Error: sum of squared amplitudes must be = 1.\\n Amplitudes: {list(updated.values())}, summing up to {normalization}\"\n",
    "        assert math.isclose(normalization, 1, rel_tol=1e-2), error\n",
    "\n",
    "        return updated\n",
    "\n",
    "\n",
    "class CNOT(QuantumGate):\n",
    "    def __init__(self, control):\n",
    "        \"\"\"\n",
    "        Args:\n",
    "          control (int): if 0, first qubit is the control, else second\n",
    "        Return:\n",
    "          result (QuantumState): quantum state with amplitudes modified\n",
    "        \"\"\"\n",
    "        self._control = control\n",
    "        super().__init__(\"cnot\", np.array([[0, 1], [1, 0]]), 1 - control)\n",
    "\n",
    "    def apply(self, quantum_state):\n",
    "        \"\"\"\n",
    "        Args:\n",
    "          state (QuantumState): quantum state to which apply the quantum operator\n",
    "        Return:\n",
    "          result (QuantumState): quantum state with amplitudes modified\n",
    "        \"\"\"\n",
    "        # Directly implement update rule on the amplitudes for a 2 qubits case.\n",
    "        # NOTE: This approach is not scalable! Refine or use qiskit for more than 2 qubits\n",
    "        a_00, a_01, a_10, a_11 = quantum_state.get_amplitudes()\n",
    "        updated = dict()\n",
    "\n",
    "        if self._control == 0:  # Then target = 2nd: if 1st qubit == 1, flip 2nd qubit.\n",
    "            updated[\"00\"] = a_00\n",
    "            updated[\"01\"] = a_01\n",
    "            updated[\"10\"] = self._U[0] * a_10 + self._U[1] * a_11\n",
    "            updated[\"11\"] = self._U[2] * a_10 + self._U[3] * a_11\n",
    "\n",
    "        if self._control == 1:  # Then control = 1st: if 2nd qubit == 1, flip 1st qubit.\n",
    "            updated[\"00\"] = self._U[0] * a_00 + self._U[1] * a_10\n",
    "            updated[\"01\"] = self._U[0] * a_01 + self._U[1] * a_11\n",
    "            updated[\"10\"] = a_10\n",
    "            updated[\"11\"] = a_11\n",
    "\n",
    "        # Check if amplitudes still satisfy condition\n",
    "        normalization = reduce(\n",
    "            lambda a, b: a + b, map(lambda a: abs(a) ** 2, updated.values())\n",
    "        )\n",
    "        error = f\"Error: sum of squared amplitudes must be = 1.\\n Amplitudes: {list(updated.values())}, summing up to {normalization}\"\n",
    "        assert math.isclose(normalization, 1, rel_tol=1e-2), error\n",
    "\n",
    "        return updated"
   ]
  },
  {
   "cell_type": "markdown",
   "metadata": {
    "id": "kfmGXb2TZWpw"
   },
   "source": [
    "### Gates List"
   ]
  },
  {
   "cell_type": "code",
   "execution_count": null,
   "metadata": {
    "id": "Pus5TovHiETW"
   },
   "outputs": [],
   "source": [
    "class Gates:\n",
    "    def __init__(self):\n",
    "        gates = dict()\n",
    "        self._num_gates = 0\n",
    "\n",
    "        # Useful\n",
    "        targets = [0, 1]\n",
    "        j = 1j  # complex unit\n",
    "\n",
    "        ########### CNOT ###########\n",
    "        gates[\"CNOT\"] = CNOT(control=0)\n",
    "        self._num_gates += 1\n",
    "\n",
    "        ########### Rotations ###########\n",
    "        angles_names = [\"pi\", \"2pi/3\", \"pi/2\", \"pi/3\", \"pi/4\"]\n",
    "        angles_values = (math.pi / 2) * np.array([1, 2 / 3, 1 / 2, 1 / 3, 1 / 4])\n",
    "        angles = {k: v for k, v in zip(angles_names, angles_values)}\n",
    "\n",
    "        # Rx\n",
    "        for name, theta in angles.items():\n",
    "            for t in targets:\n",
    "                key = \"Rx\" + str(t) + \"(\" + name + \")\"\n",
    "                gates[key] = QuantumGate(\n",
    "                    key,\n",
    "                    np.array(\n",
    "                        [\n",
    "                            [math.cos(theta), -j * math.sin(theta)],\n",
    "                            [-j * math.sin(theta), math.cos(theta)],\n",
    "                        ]\n",
    "                    ),\n",
    "                    t,\n",
    "                )\n",
    "                self._num_gates += 1\n",
    "\n",
    "        # Ry\n",
    "        for name, theta in angles.items():\n",
    "            for t in targets:\n",
    "                key = \"Ry\" + str(t) + \"(\" + name + \")\"\n",
    "                gates[key] = QuantumGate(\n",
    "                    key,\n",
    "                    np.array(\n",
    "                        [\n",
    "                            [math.cos(theta), -math.sin(theta)],\n",
    "                            [math.sin(theta), math.cos(theta)],\n",
    "                        ]\n",
    "                    ),\n",
    "                    t,\n",
    "                )\n",
    "                self._num_gates += 1\n",
    "\n",
    "        # Rz\n",
    "        for name, theta in angles.items():\n",
    "            for t in targets:\n",
    "                key = \"Rz\" + str(t) + \"(\" + name + \")\"\n",
    "                gates[key] = QuantumGate(\n",
    "                    key,\n",
    "                    np.array([[cmath.exp(-j * theta), 0], [0, cmath.exp(j * theta)]]),\n",
    "                    t,\n",
    "                )\n",
    "                self._num_gates += 1\n",
    "\n",
    "        # Hadamard\n",
    "        # gates['H0'] = QuantumGate('Hadamard_0', math.sqrt(1/2)*np.array([[1, 1], [-1, 1]]), 0)\n",
    "        # gates['H1'] = QuantumGate('Hadamard_0', math.sqrt(1/2)*np.array([[1, 1], [-1, 1]]), 0)\n",
    "\n",
    "        self._keys = list(gates.keys())\n",
    "        self._gates = list(gates.values())\n",
    "\n",
    "    def num_gates(self):\n",
    "        return self._num_gates"
   ]
  },
  {
   "cell_type": "markdown",
   "metadata": {
    "id": "EQvWLKKRgZR9"
   },
   "source": [
    "#### Google Gates"
   ]
  },
  {
   "cell_type": "code",
   "execution_count": null,
   "metadata": {
    "id": "0a4R9ebGj2rl"
   },
   "outputs": [],
   "source": [
    "class GoogleGates:\n",
    "    def __init__(self, keys=list()):\n",
    "        PI = math.pi\n",
    "        self._keys = keys\n",
    "        self._gates = [\n",
    "            (cirq.CNOT, None),\n",
    "            (cirq.rx(PI), cirq.I),\n",
    "            (cirq.I, cirq.rx(PI)),\n",
    "            (cirq.rx(2 * PI / 3), cirq.I),\n",
    "            (cirq.I, cirq.rx(2 * PI / 3)),\n",
    "            (cirq.rx(PI / 2), cirq.I),\n",
    "            (cirq.I, cirq.rx(PI / 2)),\n",
    "            (cirq.rx(PI / 3), cirq.I),\n",
    "            (cirq.I, cirq.rx(PI / 3)),\n",
    "            (cirq.rx(PI / 4), cirq.I),\n",
    "            (cirq.I, cirq.rx(PI / 4)),\n",
    "            (cirq.ry(PI), cirq.I),\n",
    "            (cirq.I, cirq.ry(PI)),\n",
    "            (cirq.ry(2 * PI / 3), cirq.I),\n",
    "            (cirq.I, cirq.ry(2 * PI / 3)),\n",
    "            (cirq.ry(PI / 2), cirq.I),\n",
    "            (cirq.I, cirq.ry(PI / 2)),\n",
    "            (cirq.ry(PI / 3), cirq.I),\n",
    "            (cirq.I, cirq.ry(PI / 3)),\n",
    "            (cirq.ry(PI / 4), cirq.I),\n",
    "            (cirq.I, cirq.ry(PI / 4)),\n",
    "            (cirq.rz(PI), cirq.I),\n",
    "            (cirq.I, cirq.rz(PI)),\n",
    "            (cirq.rz(2 * PI / 3), cirq.I),\n",
    "            (cirq.I, cirq.rz(2 * PI / 3)),\n",
    "            (cirq.rz(PI / 2), cirq.I),\n",
    "            (cirq.I, cirq.rz(PI / 2)),\n",
    "            (cirq.rz(PI / 3), cirq.I),\n",
    "            (cirq.I, cirq.rz(PI / 3)),\n",
    "            (cirq.rz(PI / 4), cirq.I),\n",
    "            (cirq.I, cirq.rz(PI / 4)),\n",
    "            # (cirq.H, cirq.I),\n",
    "            # (cirq.I, cirq.H),\n",
    "        ]\n",
    "\n",
    "    def num_gates(self):\n",
    "        return len(self._gates)"
   ]
  },
  {
   "cell_type": "markdown",
   "metadata": {
    "id": "iQJvflImPuhP"
   },
   "source": [
    "# RL Setup"
   ]
  },
  {
   "cell_type": "markdown",
   "metadata": {
    "id": "aflbZWf75E7C"
   },
   "source": [
    "## Environment"
   ]
  },
  {
   "cell_type": "code",
   "execution_count": null,
   "metadata": {
    "id": "bL6bfPeCJSbl"
   },
   "outputs": [],
   "source": [
    "class Environment:\n",
    "    def __init__(\n",
    "        self,\n",
    "        initial_state,\n",
    "        target_state,\n",
    "        tolerance,\n",
    "        negative_reward,\n",
    "        positive_reward,\n",
    "        discount,\n",
    "    ):\n",
    "        \"\"\"\n",
    "        Args:\n",
    "          initial_state (QuantumState): initial state of the system\n",
    "          target_state (QuantumState): target state of the system\n",
    "          tolerance (float): tolerance in terms of fidelity score\n",
    "        \"\"\"\n",
    "        self._initial_state = initial_state\n",
    "        self._target_state = target_state\n",
    "\n",
    "        self._tolerance = tolerance  # tolerance in terms of fidelity between\n",
    "\n",
    "        self._quantum_gates, self._keys, self._num_gates = self.gates_set()\n",
    "\n",
    "        self._terminal_fidelity = (\n",
    "            0  # used to retrieve the info at the end of an episode\n",
    "        )\n",
    "        self._terminal_state = (\n",
    "            None  # used to retrieve the info at the end of an episode\n",
    "        )\n",
    "\n",
    "        self._negative_reward = negative_reward\n",
    "        self._positive_reward = positive_reward\n",
    "        self._discount = discount\n",
    "\n",
    "        # Used to initialize Environment instance from scratch.\n",
    "        self.reset()\n",
    "\n",
    "    def gates_set(self):\n",
    "        \"\"\"\n",
    "        Returns:\n",
    "          gates._gates (List[QuantumGate]): return the list with available QuantumGate objects\n",
    "          gates._keys (Dict[String: Int]): dictionary mapping a gate to its action index\n",
    "          gates.num_gates() (int): number of available gates (actions)\n",
    "        \"\"\"\n",
    "        gates = Gates()\n",
    "        return gates._gates, gates._keys, gates.num_gates()\n",
    "\n",
    "    def step(self, action):\n",
    "        \"\"\"\n",
    "        Given a gate, apply it to self._state.\n",
    "        Set the reward, resulting state and discount.\n",
    "        Return these values, along with the information if the terminal state has been reached\n",
    "        Args:\n",
    "          action (int): action index to select a QuantumGate\n",
    "\n",
    "        Return:\n",
    "          reward, discount, next_state features, terminal\n",
    "        \"\"\"\n",
    "        # Get and apply action. next_state is a QuantumState\n",
    "        gate = self._quantum_gates[action]\n",
    "        next_state = self._state.apply_gate(gate)\n",
    "\n",
    "        # Compare new state and target\n",
    "        fidelity = next_state.fidelity_score(self._target_state)\n",
    "\n",
    "        # Assign reward based on state and fidelity\n",
    "        terminal = self.is_terminal(fidelity)\n",
    "\n",
    "        # Terminal state\n",
    "        if terminal:\n",
    "            reward = self._positive_reward\n",
    "            discount = 0.0\n",
    "            self._terminal_fidelity = fidelity\n",
    "            self._terminal_state = next_state\n",
    "            self.reset()\n",
    "        else:\n",
    "            reward = self._negative_reward\n",
    "            discount = self._discount\n",
    "            self._state = next_state\n",
    "\n",
    "        # Return the features, not the state itself\n",
    "        return reward, discount, self.get_obs(), terminal\n",
    "\n",
    "    def is_terminal(self, fidelity):\n",
    "        \"\"\"\n",
    "        Check if, by a level of self.tolerance, state is terminal\n",
    "        \"\"\"\n",
    "        if fidelity > (1 - self._tolerance):\n",
    "            return True\n",
    "\n",
    "        return False\n",
    "\n",
    "    def get_obs(self):\n",
    "        return self._state.get_features()\n",
    "\n",
    "    def reset(self):\n",
    "        self._state = self._initial_state"
   ]
  },
  {
   "cell_type": "markdown",
   "metadata": {
    "id": "I5ZoAqcy3qkH"
   },
   "source": [
    "## Agent\n",
    "There is a bug I think, when I provide as next_state the initial state I\n",
    "- agent is in state self._state: a state contiguous to the terminal one, T, that we call S\n",
    "- the update is done for S wrt to next_state, which in this case is I, and not T as expected. There are 2 major drawbacks as consequence  \n",
    "One is that the update is done wrongly: r + g*q(I), but I here has not any sense\n",
    "Two is that I will never learn that this state is contiguous.\n",
    "\n",
    "Now, I have to reason about this, because I think in the assignment they used this approach, but better to write down this doubt.\n",
    "\n",
    "NO! This issue is fixed by putting discount = 0. Alright :)"
   ]
  },
  {
   "cell_type": "code",
   "execution_count": null,
   "metadata": {
    "id": "hWp0UZ7q6VVF"
   },
   "outputs": [],
   "source": [
    "class ReplayBuffer(object):\n",
    "    def __init__(self):\n",
    "        self.buffer = []\n",
    "\n",
    "    def append_transition(self, transition):\n",
    "        \"\"\"\n",
    "        Args:\n",
    "          transition (tuple): (state, action, reward, discount, next state)\n",
    "        \"\"\"\n",
    "        self.buffer.append(transition)\n",
    "\n",
    "    def sample_transition(self):\n",
    "        return random.choice(self.buffer)\n",
    "\n",
    "    def clear(self):\n",
    "        self.buffer = []"
   ]
  },
  {
   "cell_type": "code",
   "execution_count": 78,
   "metadata": {
    "id": "De-sHIvHwKra"
   },
   "outputs": [],
   "source": [
    "# Least Square TD Agent: action value function approximation\n",
    "# implemented with gradient descent.\n",
    "class LSTDAgent:\n",
    "    def __init__(\n",
    "        self,\n",
    "        number_of_actions,\n",
    "        number_of_features,\n",
    "        initial_state,\n",
    "        step_size,\n",
    "        num_offline_updates,\n",
    "        W=None,\n",
    "        off_policy=True\n",
    "    ):\n",
    "        \"\"\"\n",
    "        Args:\n",
    "          initial_state: it is a feature vector!\n",
    "        \"\"\"\n",
    "        self._number_of_actions = number_of_actions\n",
    "        self._number_of_features = number_of_features\n",
    "        self._W = np.zeros((number_of_actions, number_of_features), dtype=np.float16)\n",
    "        if W is not None:\n",
    "            self._W = W  # Initialize with previously learned weights\n",
    "\n",
    "        self._step_size = step_size\n",
    "        self._initial_state = initial_state\n",
    "\n",
    "        self._num_offline_updates = num_offline_updates\n",
    "        self._replay_buffer = ReplayBuffer()  # supervised dataset\n",
    "        self._step = 0\n",
    "        \n",
    "        self._off_policy = off_policy # set to false for ablation study\n",
    "\n",
    "        # St self._state to initial state and pick an action randomly\n",
    "        self.reset(True)\n",
    "\n",
    "    def behaviour_policy(self, state=None):\n",
    "        return random.choice(range(self._number_of_actions))\n",
    "\n",
    "    def q(self, state):\n",
    "        \"\"\"\n",
    "        Args:\n",
    "          state (list): list of the amplitudes := features of the state\n",
    "        \"\"\"\n",
    "        return np.matmul(self._W, state)\n",
    "\n",
    "    def step(self, reward, discount, next_state):\n",
    "        \"\"\"\n",
    "        Args:\n",
    "          next_state (list): list of the amplitude: these are already features, not a QuantumState instance\n",
    "          terminal (boolean): if next_state is the terminal state\n",
    "        \"\"\"\n",
    "        s = self._state\n",
    "        a = self._action\n",
    "        r = reward\n",
    "        next_s = next_state\n",
    "        g = discount\n",
    "\n",
    "        self._W[a] += (\n",
    "            self._step_size * (r + g * np.max(self.q(next_s)) - self.q(s)[a]) * s\n",
    "        )\n",
    "\n",
    "        # Experience replay\n",
    "        self._replay_buffer.append_transition((s, a, r, g, next_s))\n",
    "        for _ in range(self._num_offline_updates):\n",
    "            s, a, r, g, next_s = self._replay_buffer.sample_transition()\n",
    "            self._W[a] += (\n",
    "                self._step_size * (r + g * np.max(self.q(next_s)) - self.q(s)[a]) * s\n",
    "            )\n",
    "\n",
    "        next_a = self.behaviour_policy()\n",
    "        if not self._off_policy:\n",
    "            # eps greedy\n",
    "            greedy = np.random.choice([True, False], p = [0.8, 0.2])\n",
    "            if greedy:\n",
    "                next_a = np.argmax(self.q(next_s))\n",
    "                \n",
    "        self._action = next_a\n",
    "        self._state = next_s\n",
    "        self._step += 1\n",
    "\n",
    "        return next_a\n",
    "\n",
    "    def inference(self, reward, discount, next_state):\n",
    "        s = self._state\n",
    "        a = self._action\n",
    "        r = reward\n",
    "        next_s = next_state\n",
    "        g = discount\n",
    "\n",
    "        next_a = np.argmax(self.q(next_s))\n",
    "        if not self._off_policy:\n",
    "            # eps greedy\n",
    "            random = np.random.choice([False, True], p = [0.8, 0.2])\n",
    "            if random:\n",
    "                next_a = self.behaviour_policy()\n",
    "        self._action = next_a\n",
    "        self._state = next_s\n",
    "\n",
    "        return next_a\n",
    "\n",
    "    def reset(self, random=False, W=None):\n",
    "        self._state = self._initial_state\n",
    "        if random:\n",
    "            self._action = self.behaviour_policy()\n",
    "        else:\n",
    "            self._action = np.argmax(self.q(self._state))\n",
    "\n",
    "        self._replay_buffer.clear()"
   ]
  },
  {
   "cell_type": "markdown",
   "metadata": {
    "id": "C5_vQxz7Ke2s"
   },
   "source": [
    "# Helper Functions"
   ]
  },
  {
   "cell_type": "code",
   "execution_count": 79,
   "metadata": {
    "id": "dSwKia38JvwL"
   },
   "outputs": [],
   "source": [
    "def compare_circuits(circuit_gates, final_state, target_state, path=None):\n",
    "    \"\"\"\n",
    "    Compare results obtained by google gates vs my custom gates implementation\n",
    "    Args:\n",
    "      circuit_gates (List[int]): indices of the gates in the circuit defined by the agent\n",
    "      final_state (QuantumState): terminal state reached by the agent\n",
    "      target_state (QuantumState): target state of TD agent\n",
    "    \"\"\"\n",
    "    my_gates = Gates()\n",
    "    google_gates = GoogleGates(my_gates._keys)\n",
    "\n",
    "    # Google initialization\n",
    "    q0 = cirq.NamedQubit(\"q0\")\n",
    "    q1 = cirq.NamedQubit(\"q1\")\n",
    "    circuit = cirq.Circuit()\n",
    "\n",
    "    def basic_circuit(u0, u1):\n",
    "        if u1 is not None:\n",
    "            yield u0(q0), u1(q1)\n",
    "        else:\n",
    "            yield u0(q0, q1)\n",
    "\n",
    "    # Create the circuit with both Google API and my implementation\n",
    "    q = QuantumState(np.array([1, 0, 0, 0]))\n",
    "    for idx in circuit_gates:\n",
    "        q = q.apply_gate(my_gates._gates[idx])\n",
    "        circuit.append(basic_circuit(*google_gates._gates[idx]))\n",
    "\n",
    "    # Simulate Google circuit - oracle\n",
    "    simulator = Simulator()\n",
    "    result = simulator.simulate(circuit, qubit_order=[q0, q1])\n",
    "\n",
    "    # Check coherence between approximate terminal states\n",
    "    assert np.all(\n",
    "        np.around(q.get_amplitudes(), 3) == np.around(final_state.get_amplitudes(), 3)\n",
    "    ), f\"Unexpected terminal state: got {np.around(q.get_amplitudes(), 3)} rather than {np.around(final_state.get_amplitudes(), 3)}\"\n",
    "\n",
    "    # Check coherence between Google result and mine\n",
    "    # assert np.all(np.around(q.get_amplitudes(), 3) == np.around(result.final_state_vector, 3)),\\\n",
    "    #  f\"Unexpected terminal state: got {np.around(q.get_amplitudes(), 3)} rather than {np.around(result.final_state_vector, 3)}\"\n",
    "\n",
    "    print(f\"Approximate state: {np.around(final_state.get_amplitudes(), 3)}\")\n",
    "    print(f\"Target state: {np.around(target_state.get_amplitudes(), 3)}\")\n",
    "    print(\n",
    "        f\"Fidelity score: {target_state.fidelity_score(final_state)}. Number of gates: {len(circuit_gates)}\"\n",
    "    )\n",
    "\n",
    "    print(\"\")\n",
    "    print(circuit)\n",
    "\n",
    "    if path is not None:\n",
    "        logs(final_state, target_state, circuit_gates, circuit, path)"
   ]
  },
  {
   "cell_type": "code",
   "execution_count": 80,
   "metadata": {
    "id": "WyWWqvKkQSMj"
   },
   "outputs": [],
   "source": [
    "def get_quantum_state(tolerance, seed, i):\n",
    "    \"\"\"\n",
    "    Get a feasible set of amplitudes of a quantum state,\n",
    "    by applying a random number of random gates to the initial state |00>\n",
    "\n",
    "    Return:\n",
    "      amplitudes (np.array): list of new state amplitudes\n",
    "    \"\"\"\n",
    "    random.seed(seed + i)\n",
    "    np.random.seed(seed + i)\n",
    "\n",
    "    gates = GoogleGates()\n",
    "\n",
    "    # Circuit initialization\n",
    "    q0 = cirq.NamedQubit(\"q0\")\n",
    "    q1 = cirq.NamedQubit(\"q1\")\n",
    "    circuit = cirq.Circuit()\n",
    "\n",
    "    def basic_circuit(u0, u1):\n",
    "        if u1 is not None:\n",
    "            yield u0(q0), u1(q1)\n",
    "        else:\n",
    "            yield u0(q0, q1)\n",
    "\n",
    "    is_next = True\n",
    "    while is_next:\n",
    "        idx = random.choice(range(gates.num_gates()))\n",
    "        circuit.append(basic_circuit(*gates._gates[idx]))\n",
    "        is_next = np.random.choice([True, False], p=[0.9, 0.1])\n",
    "\n",
    "    simulator = Simulator()\n",
    "    result = simulator.simulate(circuit, qubit_order=[q0, q1])\n",
    "\n",
    "    amplitudes = result.final_state_vector\n",
    "\n",
    "    # Check correctness of the new state\n",
    "    error = \"Error: sum of squared amplitudes must be = 1\"\n",
    "    val = reduce(lambda a, b: a + b, map(lambda a: abs(a) ** 2, amplitudes))\n",
    "    assert math.isclose(val, 1, rel_tol=1e-2), error + f\" instead is {val}\"\n",
    "\n",
    "    # If I am equal to the initial state\n",
    "    if QuantumState(amplitudes).fidelity_score(QuantumState(np.array([1, 0, 0, 0]))) > (\n",
    "        1 - tolerance\n",
    "    ):\n",
    "        get_quantum_state(tolerance, seed, i * 100)\n",
    "\n",
    "    return amplitudes"
   ]
  },
  {
   "cell_type": "code",
   "execution_count": null,
   "metadata": {
    "id": "ZBEHNVrNmria"
   },
   "outputs": [],
   "source": [
    "def logs(final_state, target_state, circuit_gates, circuit, path):\n",
    "    \"\"\"\n",
    "    extra: any extra information I want to include in the logging\n",
    "    \"\"\"\n",
    "    with open(path, \"a+\") as f:\n",
    "        f.write(f\"Approximate state: {np.around(final_state.get_amplitudes(), 3)}\\n\")\n",
    "        f.write(f\"Target state: {np.around(target_state.get_amplitudes(), 3)}\\n\")\n",
    "        f.write(\n",
    "            f\"Fidelity score: {target_state.fidelity_score(final_state)}. Number of gates: {len(circuit_gates)}\\n\"\n",
    "        )\n",
    "        f.write(f\"Gates List: \")\n",
    "        f.write(f\"{circuit_gates}\\n\")\n",
    "        f.write(f\"{circuit}\\n\\n\")"
   ]
  },
  {
   "cell_type": "markdown",
   "metadata": {
    "id": "OFL1yPnM06xH"
   },
   "source": [
    "# Experiment Facade\n",
    "Class to handle experiments and visualization  \n",
    "- [X] run experiment\n",
    "- [ ] Allow for agent.q visualization for a state, providing labels to actions. This allow to see if very close states are associated to very close actions\n",
    "- [ ] Monitor number of steps as experience grow: is the agent actually learning good? ==> in this sense no, but this is because of local minima. I do not have guarantee to find a global optimum with gradient descent (verify)\n",
    "- [ ] Monitor the weights (see if I can find any meaning): need to put labels about actions ==> does an action focuses on an amplitudes subset as I would expect (e.g. if an amplitude is not touched by  gate, than I expect its weight value to be low\n",
    "- [X] Monitor fidelity score inside episodes --> add inference every N steps\n",
    "- [ ] Monitor impact of initial gate\n"
   ]
  },
  {
   "cell_type": "code",
   "execution_count": 81,
   "metadata": {
    "id": "DfMBR8Ws0sqy"
   },
   "outputs": [],
   "source": [
    "# Facade class to run experiment\n",
    "class Experiment:\n",
    "    def __init__(\n",
    "        self,\n",
    "        start_state,\n",
    "        target_state,\n",
    "        tolerance,\n",
    "        number_of_episodes,\n",
    "        step_size,\n",
    "        num_offline_updates,\n",
    "        negative_reward,\n",
    "        positive_reward,\n",
    "        discount,\n",
    "        W=None,\n",
    "        max_steps=300,\n",
    "        off_policy=True\n",
    "    ):\n",
    "\n",
    "        self._env = Environment(\n",
    "            QuantumState(start_state),\n",
    "            QuantumState(target_state),\n",
    "            tolerance,\n",
    "            negative_reward,\n",
    "            positive_reward,\n",
    "            discount,\n",
    "        )\n",
    "\n",
    "        number_of_actions = len(self._env._keys)\n",
    "        initial_features = self._env.get_obs()\n",
    "\n",
    "        self._agent = LSTDAgent(\n",
    "            number_of_actions,\n",
    "            len(initial_features),\n",
    "            initial_features,\n",
    "            step_size,\n",
    "            num_offline_updates,\n",
    "            W,\n",
    "            off_policy\n",
    "        )\n",
    "\n",
    "        self._number_of_episodes = number_of_episodes\n",
    "        \n",
    "        self._max_steps = max_steps\n",
    "\n",
    "    def run_experiment(self):\n",
    "        \"\"\"\n",
    "        Run episodes, gathering statistics and updating user on console.\n",
    "        \"\"\"\n",
    "        min_steps = -1\n",
    "        min_gates = []\n",
    "        min_terminal_state = None\n",
    "        for episode in range(self._number_of_episodes):\n",
    "            self.run_episode()\n",
    "            gates, terminal_state = self.run_inference(episode)\n",
    "            if min_steps == -1 or len(gates) < min_steps:\n",
    "                min_steps = len(gates)\n",
    "                min_gates = gates\n",
    "                min_terminal_state = terminal_state\n",
    "\n",
    "        return min_gates, min_terminal_state\n",
    "\n",
    "    def run_episode(self):\n",
    "        \"\"\"\n",
    "        Run a single episode.\n",
    "        At the beginning of an episode we must guarantee\n",
    "        - initial state in the environment\n",
    "        - initial state in the agent\n",
    "        \"\"\"\n",
    "        terminal = False\n",
    "        action = self._agent._action\n",
    "        while not terminal:\n",
    "            reward, discount, next_s, terminal = self._env.step(action)\n",
    "            action = self._agent.step(reward, discount, next_s)\n",
    "\n",
    "        # Add a reset step below, to take first action\n",
    "        self._agent.reset()\n",
    "\n",
    "    def run_inference(self, episode):\n",
    "        \"\"\"\n",
    "        Run an episode using the optimal policy learned\n",
    "        \"\"\"\n",
    "        terminal = False\n",
    "        action = self._agent._action\n",
    "        gates = []\n",
    "        while not terminal and len(gates) <= self._max_steps:\n",
    "            gates.append(action)\n",
    "            reward, discount, next_s, terminal = self._env.step(action)\n",
    "            action = self._agent.inference(reward, discount, next_s)\n",
    "\n",
    "        if not terminal:\n",
    "            return gates, self._env._state\n",
    "\n",
    "        max_gates = 20\n",
    "        if len(gates) < max_gates:\n",
    "            print(\n",
    "                f\"Episode {episode}: inference completed in {len(gates)} steps. Fidelity score: {self._env._terminal_fidelity}\"\n",
    "            )\n",
    "\n",
    "        return gates, self._env._terminal_state\n",
    "\n",
    "    def q_values(self):\n",
    "        \"\"\"\n",
    "        The function should plot, in a [0, 1] complex plane, the value function\n",
    "        on the z axis, for each of the 4 value of amplitude.\n",
    "        In order to get reasonable values and understand the effect of the amplitude\n",
    "        under analysis on the overall q_values, the remaining amplitudes values will\n",
    "        be set to the target amplitudes.\n",
    "        \"\"\"\n",
    "        fig, ax = plt.subplots(subplot_kw={\"projection\": \"3d\"})\n",
    "\n",
    "        state = self._env._target_state\n",
    "        features = state.get_features()\n",
    "        x = np.linspace(0, 1, num=100)\n",
    "        y = np.linspace(0, 1, num=100)\n",
    "        grid = np.meshgrid\n",
    "        q = []\n",
    "        for i in x:\n",
    "            row = []\n",
    "            for k in y:\n",
    "                features[0] = i\n",
    "                features[0] = k\n",
    "                row.append(self._agent.q(features))\n",
    "\n",
    "            q.append(row)\n",
    "\n",
    "        q = np.array(q)\n",
    "        surf = ax.plot_surface(\n",
    "            x,\n",
    "            y,\n",
    "            np.squeeze(q[:, :, 0]),\n",
    "            cmap=cm.coolwarm,\n",
    "            linewidth=0,\n",
    "            antialiased=False,\n",
    "        )\n",
    "\n",
    "        # Add a color bar which maps values to colors.\n",
    "        fig.colorbar(surf, shrink=0.5, aspect=5)\n",
    "\n",
    "        plt.show()"
   ]
  },
  {
   "cell_type": "markdown",
   "metadata": {
    "id": "2YKa4MYQ0tUp"
   },
   "source": [
    "# Experiment"
   ]
  },
  {
   "cell_type": "markdown",
   "metadata": {
    "id": "UhrdRkT2LaEE"
   },
   "source": [
    "## Random Target States"
   ]
  },
  {
   "cell_type": "markdown",
   "metadata": {
    "id": "EN0SmXxG_LPx"
   },
   "source": [
    "- Need to tune all the parameters below. In particular, it is important to understand upt to which point we can decrease the tolerance.\n",
    "- Substitute TRAINING_EPISODES with number of training steps "
   ]
  },
  {
   "cell_type": "code",
   "execution_count": null,
   "metadata": {
    "id": "3R5nEorB3kgW"
   },
   "outputs": [],
   "source": [
    "TOLERANCE = 0.1\n",
    "TRAINING_EPISODES = 100\n",
    "STEP_SIZE = 0.0001\n",
    "NUM_OFFLINE_UPDATES = 0  # WAY WORSE IF != 0\n",
    "SEED = 100\n",
    "NUM_EXPERIMENTS = 1\n",
    "PATH = \"logs.txt\""
   ]
  },
  {
   "cell_type": "code",
   "execution_count": null,
   "metadata": {
    "id": "CxfbO_gNpdtC"
   },
   "outputs": [],
   "source": [
    "with open(PATH, \"w+\") as f:\n",
    "    f.write(f\"TOLERANCE: {TOLERANCE}\\n\")\n",
    "    f.write(f\"TRAINING_EPISODES: {TRAINING_EPISODES}\\n\")\n",
    "    f.write(f\"STEP_SIZE: {STEP_SIZE}\\n\")\n",
    "    f.write(f\"NUM_OFFLINE_UPDATES: {NUM_OFFLINE_UPDATES}\\n\")\n",
    "    f.write(f\"SEED: {SEED}\\n\")\n",
    "    f.write(f\"NUM_EXPERIMENTS: {NUM_EXPERIMENTS}\\n\\n\")"
   ]
  },
  {
   "cell_type": "markdown",
   "metadata": {
    "id": "UbXs0upGaB2d"
   },
   "source": [
    "TODO:\n",
    "- Best policy? Per ora, numero minimo di gates\n",
    "- Testare replay ==> set up logging for comparison\n",
    "- Check fidelity score implementation correctness\n",
    "- Spiegare comportamento oscillatorio: secondo me dato lo spazio di ricerca cosi grande, il rischio è che esca facilmente da un local minimum la funzione"
   ]
  },
  {
   "cell_type": "code",
   "execution_count": null,
   "metadata": {
    "colab": {
     "base_uri": "https://localhost:8080/",
     "height": 925
    },
    "id": "7b2pDqPiVFxp",
    "outputId": "9d8321d6-1105-4ef8-ca43-16c3ead8e940"
   },
   "outputs": [],
   "source": [
    "for i in range(NUM_EXPERIMENTS):\n",
    "    start = [1, 0, 0, 0]\n",
    "    target = get_quantum_state(TOLERANCE, SEED, i)\n",
    "\n",
    "    print(f\"Experiment {i}\")\n",
    "\n",
    "    experiment = Experiment(\n",
    "        start,\n",
    "        target,\n",
    "        TOLERANCE,\n",
    "        TRAINING_EPISODES,\n",
    "        STEP_SIZE,\n",
    "        NUM_OFFLINE_UPDATES,\n",
    "        -6.0,\n",
    "        100.0,\n",
    "    )\n",
    "    circuit_gates, terminal_state = experiment.run_experiment()\n",
    "    target_state = QuantumState(target)\n",
    "    compare_circuits(circuit_gates, terminal_state, target_state, PATH)\n",
    "    print(\"\")\n",
    "\n",
    "    sns.heatmap(experiment._agent._W)\n",
    "    plt.show()\n",
    "    print(\"\")\n",
    "    print(\"\")"
   ]
  },
  {
   "cell_type": "code",
   "execution_count": null,
   "metadata": {
    "colab": {
     "base_uri": "https://localhost:8080/",
     "height": 17
    },
    "id": "LynFoa72p99I",
    "outputId": "b3b7de86-ea59-4d01-8ddf-e8edbd427cd8"
   },
   "outputs": [],
   "source": [
    "files.download(PATH)"
   ]
  },
  {
   "cell_type": "markdown",
   "metadata": {
    "id": "iuNnRBpQLEpe"
   },
   "source": [
    "## Bell Target States"
   ]
  },
  {
   "cell_type": "code",
   "execution_count": 82,
   "metadata": {
    "id": "Hn6FxnB9LLtB"
   },
   "outputs": [],
   "source": [
    "# Bell states amplitudes\n",
    "bell_amplitudes = np.array(\n",
    "    [\n",
    "        [1 / math.sqrt(2), 0, 0, 1 / math.sqrt(2)],  # |00> + |11>\n",
    "        [0, 1 / math.sqrt(2), 1 / math.sqrt(2), 0],  # |01> + |10>\n",
    "        [1 / math.sqrt(2), 0, 0, -1 / math.sqrt(2)],  # |00> - |11>\n",
    "        [0, 1 / math.sqrt(2), -1 / math.sqrt(2), 0],\n",
    "    ]\n",
    ")  # |01> - |10>\n",
    "bell_dict = {\n",
    "    \"|00> + |11>\": bell_amplitudes[0],\n",
    "    \"|01> + |10>\": bell_amplitudes[1],\n",
    "    \"|00> - |11>\": bell_amplitudes[2],\n",
    "    \"|01> - |10>\": bell_amplitudes[3],\n",
    "}"
   ]
  },
  {
   "cell_type": "markdown",
   "metadata": {
    "id": "XmkD7aj361y_"
   },
   "source": [
    "### Parameter tuning"
   ]
  },
  {
   "cell_type": "code",
   "execution_count": null,
   "metadata": {},
   "outputs": [],
   "source": [
    "TOLERANCE = 0.15\n",
    "TRAINING_EPISODES = 100\n",
    "NUM_OFFLINE_UPDATES = 0  # WAY WORSE IF != 0"
   ]
  },
  {
   "cell_type": "code",
   "execution_count": 69,
   "metadata": {
    "id": "7NKF5kmFX30K"
   },
   "outputs": [],
   "source": [
    "params = {\n",
    "    \"step_size\": [0.0001, 0.0005, 0.00005],\n",
    "    \"negative_reward\": [0, -1.0, -5.0, -10.0],\n",
    "    \"positive_reward\": [1, 50.0, 80.0, 100.0],\n",
    "    \"discount\": [0, 0.25, 0.5, 0.75, 0.9],\n",
    "}\n",
    "param_grid = ParameterGrid(params)"
   ]
  },
  {
   "cell_type": "code",
   "execution_count": null,
   "metadata": {
    "colab": {
     "base_uri": "https://localhost:8080/"
    },
    "id": "UmtpRnrMOqJv",
    "outputId": "f2f1f89e-cb88-43a5-b883-5dbb39713320"
   },
   "outputs": [],
   "source": [
    "%%time\n",
    "def experiment_logs(logs, circuit_gates, final_state, target_state, params, rep):\n",
    "    logs[rep][\"fidelity\"].append(target_state.fidelity_score(final_state))\n",
    "    logs[rep][\"num_gates\"].append(len(circuit_gates))\n",
    "    logs[rep][\"params\"].append(params)\n",
    "\n",
    "\n",
    "gridsearch_logs = {\n",
    "    key: {\"params\": [], \"fidelity\": [], \"num_gates\": []} for key in bell_dict.keys()\n",
    "}\n",
    "\n",
    "for params in param_grid:\n",
    "    print(params)\n",
    "    step_size = params[\"step_size\"]\n",
    "    negative_reward = params[\"negative_reward\"]\n",
    "    positive_reward = params[\"positive_reward\"]\n",
    "    discount = params[\"discount\"]\n",
    "    for rep, bell_state in bell_dict.items():\n",
    "        print(rep)\n",
    "        start = [1, 0, 0, 0]\n",
    "        target = bell_state\n",
    "\n",
    "        experiment = Experiment(\n",
    "            start,\n",
    "            target,\n",
    "            TOLERANCE,\n",
    "            TRAINING_EPISODES,\n",
    "            step_size,\n",
    "            NUM_OFFLINE_UPDATES,\n",
    "            negative_reward,\n",
    "            positive_reward,\n",
    "            discount,\n",
    "            off_policy=False\n",
    "        )\n",
    "\n",
    "        circuit_gates, terminal_state = experiment.run_experiment()\n",
    "\n",
    "        experiment_logs(\n",
    "            gridsearch_logs,\n",
    "            circuit_gates,\n",
    "            terminal_state,\n",
    "            QuantumState(target),\n",
    "            params,\n",
    "            rep,\n",
    "        )\n",
    "        print()\n",
    "    print()\n",
    "\n",
    "gridsearch_df = pd.DataFrame(gridsearch_logs)"
   ]
  },
  {
   "cell_type": "code",
   "execution_count": 73,
   "metadata": {
    "id": "qF5Gafz_Q2aA"
   },
   "outputs": [],
   "source": [
    "txt_path = \"tuning.txt\"\n",
    "csv_path = \"complete_logs.csv\"\n",
    "\n",
    "with open(txt_path, \"w+\") as f:\n",
    "    f.write(\"Arguments \\n\")\n",
    "    f.write(\n",
    "        f\"Tolerance: {TOLERANCE} - Training episodes: {TRAINING_EPISODES} - Offline updates: {NUM_OFFLINE_UPDATES}\\n\\n\"\n",
    "    )\n",
    "\n",
    "    f.write(\n",
    "        \"\\t\".join(\n",
    "            [\n",
    "                \"Bell state\",\n",
    "                \"parameters\",\n",
    "                \"number of gates\",\n",
    "                \"fidelity\",\n",
    "                \"optimality_type\",\n",
    "            ]\n",
    "        )\n",
    "    )\n",
    "    f.write(\"\\n\")\n",
    "    for col in gridsearch_df:\n",
    "        f.write(col + \"\\t\")\n",
    "        f.write(\n",
    "            f\"{gridsearch_df.loc['params', col][np.argmin(gridsearch_df.loc['num_gates', col])]}\\t\"\n",
    "        )\n",
    "        f.write(\n",
    "            f\"{gridsearch_df.loc['num_gates', col][np.argmin(gridsearch_df.loc['num_gates', col])]}\\t\"\n",
    "        )\n",
    "        f.write(\n",
    "            f\"{gridsearch_df.loc['fidelity', col][np.argmin(gridsearch_df.loc['num_gates', col])]}\\t\"\n",
    "        )\n",
    "        f.write(\"num_gates \\n\")\n",
    "\n",
    "        f.write(col + \"\\t\")\n",
    "        f.write(\n",
    "            f\"{gridsearch_df.loc['params', col][np.argmax(gridsearch_df.loc['fidelity', col])]}\\t\"\n",
    "        )\n",
    "        f.write(\n",
    "            f\"{gridsearch_df.loc['num_gates', col][np.argmax(gridsearch_df.loc['fidelity', col])]}\\t\"\n",
    "        )\n",
    "        f.write(\n",
    "            f\"{gridsearch_df.loc['fidelity', col][np.argmax(gridsearch_df.loc['fidelity', col])]}\\t\"\n",
    "        )\n",
    "        f.write(\"fidelity \\n\")\n",
    "        f.write(\"\\n\")\n",
    "        \n",
    "gridsearch_df.to_csv(csv_path)"
   ]
  },
  {
   "cell_type": "markdown",
   "metadata": {
    "id": "JW49SU5RXCe3"
   },
   "source": [
    "Best Params:  \n",
    "?\n"
   ]
  },
  {
   "cell_type": "markdown",
   "metadata": {
    "id": "A_Sp4QyeQQwc"
   },
   "source": [
    "### Train"
   ]
  },
  {
   "cell_type": "code",
   "execution_count": 85,
   "metadata": {
    "id": "FWQtqZmJLrpK"
   },
   "outputs": [],
   "source": [
    "TOLERANCE = 0.15\n",
    "TRAINING_EPISODES = 200\n",
    "NUM_OFFLINE_UPDATES = 0  # WAY WORSE IF != 0\n",
    "\n",
    "STEP_SIZE = 0.0001\n",
    "NEG_REWARD = -1.0\n",
    "POS_REWARD = 100.0\n",
    "DISCOUNT = 0.\n",
    "PATH = \"logs.txt\""
   ]
  },
  {
   "cell_type": "code",
   "execution_count": null,
   "metadata": {
    "id": "D2OFavVsN5HU"
   },
   "outputs": [],
   "source": [
    "with open(PATH, \"w+\") as f:\n",
    "    f.write(f\"TOLERANCE: {TOLERANCE}\\n\")\n",
    "    f.write(f\"TRAINING_EPISODES: {TRAINING_EPISODES}\\n\")\n",
    "    f.write(f\"STEP_SIZE: {STEP_SIZE}\\n\")\n",
    "    f.write(f\"NUM_OFFLINE_UPDATES: {NUM_OFFLINE_UPDATES}\\n\")\n",
    "    f.write(f\"NEG_REWARD: {NEG_REWARD}\\n\")\n",
    "    f.write(f\"POS_REWARD: {POS_REWARD}\\n\")"
   ]
  },
  {
   "cell_type": "code",
   "execution_count": 86,
   "metadata": {
    "colab": {
     "base_uri": "https://localhost:8080/",
     "height": 1000
    },
    "id": "kijLuLg7N5Kb",
    "outputId": "bb48e262-0a58-44e0-a715-61595578efb2"
   },
   "outputs": [
    {
     "name": "stdout",
     "output_type": "stream",
     "text": [
      "Bell state: |00> + |11>\n",
      "Episode 6: inference completed in 15 steps. Fidelity score: 0.8987181559911428\n",
      "Episode 33: inference completed in 15 steps. Fidelity score: 0.9330127018922185\n",
      "Episode 38: inference completed in 2 steps. Fidelity score: 0.8535533905932735\n",
      "Episode 45: inference completed in 2 steps. Fidelity score: 0.9330127018922192\n",
      "Episode 51: inference completed in 15 steps. Fidelity score: 0.8750000000000006\n",
      "Episode 52: inference completed in 4 steps. Fidelity score: 0.8535533905932735\n",
      "Episode 53: inference completed in 8 steps. Fidelity score: 0.8535533905932733\n",
      "Episode 54: inference completed in 8 steps. Fidelity score: 0.8695994598700586\n",
      "Episode 55: inference completed in 8 steps. Fidelity score: 0.8705127018922193\n",
      "Episode 87: inference completed in 5 steps. Fidelity score: 0.8535533905932737\n",
      "Episode 97: inference completed in 14 steps. Fidelity score: 0.8535533905932735\n",
      "Episode 115: inference completed in 15 steps. Fidelity score: 0.9330127018922199\n",
      "Episode 169: inference completed in 5 steps. Fidelity score: 0.9330127018922194\n",
      "Episode 172: inference completed in 4 steps. Fidelity score: 0.933012701892219\n",
      "Episode 174: inference completed in 11 steps. Fidelity score: 0.8705127018922195\n",
      "Episode 176: inference completed in 8 steps. Fidelity score: 0.9832531754730547\n",
      "Episode 178: inference completed in 7 steps. Fidelity score: 0.8750000000000002\n",
      "Episode 182: inference completed in 7 steps. Fidelity score: 0.8535533905932735\n",
      "Episode 183: inference completed in 6 steps. Fidelity score: 0.8535533905932733\n",
      "Episode 187: inference completed in 5 steps. Fidelity score: 0.933012701892219\n",
      "Episode 190: inference completed in 9 steps. Fidelity score: 0.8535533905932733\n",
      "Episode 191: inference completed in 14 steps. Fidelity score: 0.9330127018922192\n",
      "Episode 193: inference completed in 5 steps. Fidelity score: 0.8535533905932737\n",
      "Episode 196: inference completed in 4 steps. Fidelity score: 0.9330127018922194\n",
      "Episode 198: inference completed in 16 steps. Fidelity score: 0.8600925490014677\n",
      "Episode 199: inference completed in 6 steps. Fidelity score: 0.9330127018922192\n",
      "Approximate state: [0.924 0.    0.    0.383]\n",
      "Target state: [0.707 0.    0.    0.707]\n",
      "Fidelity score: 0.8535533905932735. Number of gates: 2\n",
      "\n",
      "q0: ───Ry(0.25π)───@───\n",
      "                   │\n",
      "q1: ───I───────────X───\n",
      "\n"
     ]
    },
    {
     "data": {
      "image/png": "[encoded data removed]",
      "text/plain": [
       "<Figure size 432x288 with 2 Axes>"
      ]
     },
     "metadata": {
      "needs_background": "light"
     },
     "output_type": "display_data"
    },
    {
     "name": "stdout",
     "output_type": "stream",
     "text": [
      "\n",
      "\n",
      "Bell state: |01> + |10>\n",
      "Episode 3: inference completed in 15 steps. Fidelity score: 0.8535533905932737\n",
      "Episode 34: inference completed in 19 steps. Fidelity score: 0.9311862178478973\n",
      "Episode 45: inference completed in 19 steps. Fidelity score: 0.8567465193097616\n",
      "Episode 58: inference completed in 7 steps. Fidelity score: 0.933012701892219\n",
      "Episode 59: inference completed in 9 steps. Fidelity score: 0.8705127018922193\n",
      "Episode 85: inference completed in 10 steps. Fidelity score: 0.9330127018922194\n",
      "Episode 92: inference completed in 9 steps. Fidelity score: 0.8705127018922195\n",
      "Episode 143: inference completed in 15 steps. Fidelity score: 0.9475122572096836\n",
      "Episode 156: inference completed in 11 steps. Fidelity score: 0.9040063509461094\n",
      "Episode 159: inference completed in 17 steps. Fidelity score: 0.9810095264191644\n",
      "Episode 160: inference completed in 19 steps. Fidelity score: 0.8535533905932737\n",
      "Episode 163: inference completed in 13 steps. Fidelity score: 0.8535533905932733\n",
      "Episode 164: inference completed in 12 steps. Fidelity score: 0.9171168834528284\n",
      "Episode 166: inference completed in 8 steps. Fidelity score: 0.8535533905932735\n",
      "Episode 168: inference completed in 8 steps. Fidelity score: 0.8535533905932735\n",
      "Episode 169: inference completed in 11 steps. Fidelity score: 0.9330127018922187\n",
      "Episode 170: inference completed in 11 steps. Fidelity score: 0.8705127018922189\n",
      "Approximate state: [ 0.   +0.j     0.183+0.683j -0.183+0.683j  0.   -0.j   ]\n",
      "Target state: [0.    0.707 0.707 0.   ]\n",
      "Fidelity score: 0.933012701892219. Number of gates: 7\n",
      "\n",
      "q0: ───Rx(0.25π)───Rx(0.25π)───Rx(0.333π)───Ry(0.5π)───@───I──────────I──────────\n",
      "                                                       │\n",
      "q1: ───I───────────I───────────I────────────I──────────X───Ry(0.5π)───Ry(0.5π)───\n",
      "\n"
     ]
    },
    {
     "data": {
      "image/png": "[encoded data removed]",
      "text/plain": [
       "<Figure size 432x288 with 2 Axes>"
      ]
     },
     "metadata": {
      "needs_background": "light"
     },
     "output_type": "display_data"
    },
    {
     "name": "stdout",
     "output_type": "stream",
     "text": [
      "\n",
      "\n",
      "Bell state: |00> - |11>\n",
      "Episode 39: inference completed in 17 steps. Fidelity score: 0.9305666309639642\n",
      "Episode 114: inference completed in 14 steps. Fidelity score: 0.8705127018922193\n",
      "Episode 139: inference completed in 7 steps. Fidelity score: 1.0\n",
      "Episode 141: inference completed in 14 steps. Fidelity score: 0.9829629131445341\n",
      "Episode 183: inference completed in 14 steps. Fidelity score: 0.8535533905932737\n",
      "Episode 189: inference completed in 17 steps. Fidelity score: 0.9330127018922194\n",
      "Approximate state: [-0.612-0.354j  0.   +0.j     0.   +0.j     0.612+0.354j]\n",
      "Target state: [ 0.707  0.     0.    -0.707]\n",
      "Fidelity score: 1.0. Number of gates: 7\n",
      "\n",
      "q0: ───Rz(0.333π)───Rz(0.333π)───Ry(0.5π)───Rz(0.333π)───Rz(0.333π)───Rz(0.333π)───@───\n",
      "                                                                                   │\n",
      "q1: ───I────────────I────────────I──────────I────────────I────────────I────────────X───\n",
      "\n"
     ]
    },
    {
     "data": {
      "image/png": "[encoded data removed]",
      "text/plain": [
       "<Figure size 432x288 with 2 Axes>"
      ]
     },
     "metadata": {
      "needs_background": "light"
     },
     "output_type": "display_data"
    },
    {
     "name": "stdout",
     "output_type": "stream",
     "text": [
      "\n",
      "\n",
      "Bell state: |01> - |10>\n",
      "Episode 35: inference completed in 6 steps. Fidelity score: 0.875\n",
      "Episode 78: inference completed in 17 steps. Fidelity score: 0.933012701892219\n",
      "Episode 106: inference completed in 8 steps. Fidelity score: 0.9330127018922194\n",
      "Episode 161: inference completed in 18 steps. Fidelity score: 0.8535533905932735\n",
      "Approximate state: [-0.  -0.j    -0.5 -0.j     0.75-0.433j  0.  -0.j   ]\n",
      "Target state: [ 0.     0.707 -0.707  0.   ]\n",
      "Fidelity score: 0.875. Number of gates: 6\n",
      "\n",
      "q0: ───Rx(0.667π)───Rz(0.667π)───I────────────I───────@───Rz(0.667π)───\n",
      "                                                      │\n",
      "q1: ───I────────────I────────────Rz(0.667π)───Ry(π)───X───I────────────\n",
      "\n"
     ]
    },
    {
     "data": {
      "image/png": "[encoded data removed]",
      "text/plain": [
       "<Figure size 432x288 with 2 Axes>"
      ]
     },
     "metadata": {
      "needs_background": "light"
     },
     "output_type": "display_data"
    },
    {
     "name": "stdout",
     "output_type": "stream",
     "text": [
      "\n",
      "\n"
     ]
    }
   ],
   "source": [
    "W = None\n",
    "\n",
    "for rep, bell_state in bell_dict.items():\n",
    "    print(\"Bell state: \" + rep)\n",
    "    start = [1, 0, 0, 0]\n",
    "    target = bell_state\n",
    "\n",
    "    experiment = Experiment(\n",
    "        start,\n",
    "        target,\n",
    "        TOLERANCE,\n",
    "        TRAINING_EPISODES,\n",
    "        STEP_SIZE,\n",
    "        NUM_OFFLINE_UPDATES,\n",
    "        NEG_REWARD,\n",
    "        POS_REWARD,\n",
    "        DISCOUNT,\n",
    "        W,\n",
    "        max_steps = 300,\n",
    "        off_policy=False\n",
    "    )\n",
    "    circuit_gates, terminal_state = experiment.run_experiment()\n",
    "    compare_circuits(circuit_gates, terminal_state, QuantumState(target))\n",
    "    print(\"\")\n",
    "\n",
    "    sns.heatmap(experiment._agent._W)\n",
    "    plt.show()\n",
    "    print(\"\")\n",
    "    print(\"\")"
   ]
  },
  {
   "cell_type": "code",
   "execution_count": null,
   "metadata": {
    "colab": {
     "base_uri": "https://localhost:8080/",
     "height": 17
    },
    "id": "E1SOmLK9O1mJ",
    "outputId": "3c036b50-ca1a-4e56-87bd-c1ff14630648"
   },
   "outputs": [],
   "source": [
    "files.download(PATH)"
   ]
  },
  {
   "cell_type": "markdown",
   "metadata": {
    "id": "IoEfGy_AxDmb"
   },
   "source": [
    "# Analysis and TODO"
   ]
  },
  {
   "cell_type": "markdown",
   "metadata": {
    "id": "v5-DR4p_QJ8o"
   },
   "source": [
    "Count the number of successes.\n",
    "Some summary statistics of this type using binning should be plotted\n",
    "In general this could be useful to compare different polcies\n",
    "Please build a systematic set up"
   ]
  },
  {
   "cell_type": "markdown",
   "metadata": {
    "id": "m6yyJGq1J9Oh"
   },
   "source": [
    "Compare \n",
    "- Step size decrease (che e un concettoesistente in Deep lr ==> scheduler): è migliorativo?\n",
    "- behavioural policy: random o eps greedy?\n",
    "- Different rewards\n",
    "- Ragionare su perché il miglioramente non è costante, come invece vorrei,\n",
    "==> ho bisogno di generalizzare? no devo essere di successo solo su cio che ho visto in training\n",
    "Behaviour policy always exploring has been solution: try without.\n",
    "Nota: la ragione del comportamento oscillante da episodio a episodio è dovuto al fatto che gradient descent rischia di cadere in local optima ==> rallenta la convergenza a una policy ottimale. Quanto invece ho dei buoni seed esco di lì. \n",
    "Devo mediare o cosa? Posso anche mediare, ma dire che a noi serve un global optimum per trovare l'optimal path, non generalizzare. Chiedo a tizio.\n",
    "\n",
    "- Comparo diverse target policy da diversi behaviour!\n",
    "- testare experience replay per capire al meglio ogni stato. ==> mi serve o posso togliere?\n",
    "- Comparo numero di policy di successo rispetto a un approccio random: però la policy che imparo è imparata, il random no, cretino ==> quindi anche se e peggio in generale, basta sia buono una volta. Probabilmente il minimo che trovo è solo locale, ma è gia sufficiente, e il fatto che ne esca continuamente richiede soluzione a piu ampio spettro a cui non sono interessato ora"
   ]
  },
  {
   "cell_type": "markdown",
   "metadata": {
    "id": "Qj7dwCD0J9Oi"
   },
   "source": [
    "Run an inference every N episodes and monitor the optimality of the behaviour\n",
    "We could add experience replay, since after a certain number of new episodes it doesn't work well anymore"
   ]
  }
 ],
 "metadata": {
  "colab": {
   "authorship_tag": "ABX9TyMzsVC0gY/yhkA7gQ9ox71D",
   "collapsed_sections": [
    "NV8sEgIgZisp",
    "hnWqxby5ZfY_",
    "kfmGXb2TZWpw"
   ],
   "include_colab_link": true,
   "name": "QuantumRL.ipynb",
   "provenance": []
  },
  "kernelspec": {
   "display_name": "Python 3",
   "language": "python",
   "name": "python3"
  },
  "language_info": {
   "codemirror_mode": {
    "name": "ipython",
    "version": 3
   },
   "file_extension": ".py",
   "mimetype": "text/x-python",
   "name": "python",
   "nbconvert_exporter": "python",
   "pygments_lexer": "ipython3",
   "version": "3.7.9"
  }
 },
 "nbformat": 4,
 "nbformat_minor": 4
}
