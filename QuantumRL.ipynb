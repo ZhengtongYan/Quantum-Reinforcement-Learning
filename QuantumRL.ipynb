{
  "nbformat": 4,
  "nbformat_minor": 0,
  "metadata": {
    "colab": {
      "name": "QuantumRL.ipynb",
      "provenance": [],
      "collapsed_sections": [
        "NV8sEgIgZisp",
        "hnWqxby5ZfY_",
        "kfmGXb2TZWpw"
      ],
      "authorship_tag": "ABX9TyMts2KCutMJIpr+x4yXACI5",
      "include_colab_link": true
    },
    "kernelspec": {
      "name": "python3",
      "display_name": "Python 3"
    },
    "language_info": {
      "name": "python"
    }
  },
  "cells": [
    {
      "cell_type": "markdown",
      "metadata": {
        "id": "view-in-github",
        "colab_type": "text"
      },
      "source": [
        "<a href=\"https://colab.research.google.com/github/francescomontagna/Quantum-Reinforcement-Learning/blob/main/QuantumRL.ipynb\" target=\"_parent\"><img src=\"https://colab.research.google.com/assets/colab-badge.svg\" alt=\"Open In Colab\"/></a>"
      ]
    },
    {
      "cell_type": "markdown",
      "metadata": {
        "id": "eNsunVDOmIM2"
      },
      "source": [
        "# Google QuantumAI"
      ]
    },
    {
      "cell_type": "markdown",
      "metadata": {
        "id": "iDU__H-6mNf9"
      },
      "source": [
        "## Install"
      ]
    },
    {
      "cell_type": "code",
      "metadata": {
        "id": "_YQgeiVZmK4_",
        "colab": {
          "base_uri": "https://localhost:8080/"
        },
        "outputId": "8ec4d6af-d890-4e0f-e516-0a80f15bfbe0"
      },
      "source": [
        "try:\n",
        "    import cirq\n",
        "except ImportError:\n",
        "    print(\"installing cirq...\")\n",
        "    !pip install --quiet cirq\n",
        "    print(\"installed cirq.\")"
      ],
      "execution_count": 1,
      "outputs": [
        {
          "output_type": "stream",
          "text": [
            "installing cirq...\n",
            "\u001b[K     |████████████████████████████████| 389kB 6.5MB/s \n",
            "\u001b[K     |████████████████████████████████| 1.5MB 10.8MB/s \n",
            "\u001b[K     |████████████████████████████████| 1.3MB 24.3MB/s \n",
            "\u001b[?25hinstalled cirq.\n"
          ],
          "name": "stdout"
        }
      ]
    },
    {
      "cell_type": "markdown",
      "metadata": {
        "id": "AQ05rJZRmPcL"
      },
      "source": [
        "## Imports"
      ]
    },
    {
      "cell_type": "code",
      "metadata": {
        "id": "ng8kY2AmmXQS"
      },
      "source": [
        "import cirq\n",
        "from cirq import Simulator"
      ],
      "execution_count": 2,
      "outputs": []
    },
    {
      "cell_type": "markdown",
      "metadata": {
        "id": "D7ywYaaLPmtL"
      },
      "source": [
        "# Imports"
      ]
    },
    {
      "cell_type": "code",
      "metadata": {
        "id": "ETGJGzcDIxwC"
      },
      "source": [
        "import time\n",
        "import math\n",
        "import cmath\n",
        "import random\n",
        "import numpy as np\n",
        "import matplotlib.pyplot as plt\n",
        "import seaborn as sns\n",
        "from matplotlib import cm\n",
        "from functools import reduce\n",
        "from google.colab import files"
      ],
      "execution_count": 3,
      "outputs": []
    },
    {
      "cell_type": "markdown",
      "metadata": {
        "id": "BWCQSEmAOUI3"
      },
      "source": [
        "# Introduction\n",
        "## Problems\n",
        "- Since we can access the features, and know the transition probability from a state to another, this RL protocol is model based.\n",
        "Note that this is in contrast with the uncertainty about a quantum state from the observator point of view: an observator can only access the collapsed state, having no access to the amplitudes. \n",
        "\n",
        "In the paper Girolami sent me, they explicitly account for this fact, setting up a model free protocol.  \n",
        "\n",
        "\n",
        "## Reward\n",
        "Il principale problema è la formulzione della reward. per ora, l'unica soluzione tale da portare risultati accettabili è stata:\n",
        "- reward = \"grande\" per stato terminal\n",
        "- reward < 0 per stato non terminal  \n",
        "\n",
        "L'aggiunta di reward negativa a punire ogni step che non portasse a uno stato terminale, è stato cruciale. Infatti, ho usato altri tipi di reward, ma tutte fallimentari  \n",
        "- fidelity\n",
        "- fidelity per stato terminale, altrimenti 0\n",
        "- \"grande\" per stato terminale, altrimenti 0  \n",
        "\n",
        "Tutti questi tentativi si sono mostrati fallimentari"
      ]
    },
    {
      "cell_type": "markdown",
      "metadata": {
        "id": "K_8rsT6Mr7Zy"
      },
      "source": [
        "## Off Policy\n",
        "Sono dovuto ricorrere a un'approccio off policy, in quanto un approccio on policy non garantiva esplorazione sufficiente in uno spazio di ricerca così vasto. I risultati erano fortemente limitati, la matrice dei weight non vedeva mai alcune azioni, il cui valore rimaneva 0 per ogni features. I risultati erano in media peggiori di un' approccio Random.  \n",
        "Andando a usare una bahaviour policy completamente randomica, e una target policy completamente greedy, i risultati sono notavolmente migliorati. "
      ]
    },
    {
      "cell_type": "markdown",
      "metadata": {
        "id": "t-LCGYpUPpTm"
      },
      "source": [
        "# Quantum Setup"
      ]
    },
    {
      "cell_type": "markdown",
      "metadata": {
        "id": "NV8sEgIgZisp"
      },
      "source": [
        "### Qubit"
      ]
    },
    {
      "cell_type": "code",
      "metadata": {
        "id": "DjboXlFWG5EK"
      },
      "source": [
        "class Qubit:\n",
        "  def __init__(self, amplitudes):\n",
        "    \"\"\"\n",
        "    Args:\n",
        "      amplitudes (np.array): amplitudes of the |0>, |1> vectors\n",
        "    \"\"\"\n",
        "    error = \"Error: sum of squared amplitudes must be = 1\"\n",
        "    assert math.isclose(reduce(lambda a, b: a+b, map(lambda a: abs(a)**2, amplitudes)), 1, rel_tol = 1e-2), error\n",
        "    self._amplitudes = amplitudes\n",
        "\n",
        "  def qubit(self):\n",
        "    return self._amplitudes\n",
        "    \n",
        "\n",
        "class Basis(Qubit):\n",
        "  def __init__(self, index):\n",
        "    \"\"\"\n",
        "    Args:\n",
        "      index: index of the position = 1\n",
        "    \"\"\"\n",
        "    amplitudes = np.zeros((2, ))\n",
        "    amplitudes[index] += 1\n",
        "    super().__init__(amplitudes)"
      ],
      "execution_count": 4,
      "outputs": []
    },
    {
      "cell_type": "markdown",
      "metadata": {
        "id": "hnWqxby5ZfY_"
      },
      "source": [
        "### Quantum State"
      ]
    },
    {
      "cell_type": "code",
      "metadata": {
        "id": "yRBaWNuZyhgp"
      },
      "source": [
        "class QuantumState:\n",
        "  def __init__(self, amplitudes): \n",
        "\n",
        "    # We assume computational basis\n",
        "    self._basis = {\n",
        "        '00': [Basis(0), Basis(0)],\n",
        "        '01': [Basis(0), Basis(1)],\n",
        "        '10': [Basis(1), Basis(0)],\n",
        "        '11': [Basis(1), Basis(1)],\n",
        "    }\n",
        "\n",
        "    a1, a2, a3, a4 = amplitudes\n",
        "    self._amplitudes = {\n",
        "        '00': a1,\n",
        "        '01': a2,\n",
        "        '10': a3,\n",
        "        '11': a4\n",
        "    }\n",
        "    \n",
        "    self._keys = list(self._basis.keys())\n",
        "\n",
        "    error = \"Error: sum of squared amplitudes must be = 1\"\n",
        "    val = reduce(lambda a, b: a+b, map(lambda a: abs(a)**2, amplitudes))\n",
        "    assert math.isclose(val, 1, rel_tol = 1e-2), error + f\" instead is {val}\"\n",
        "\n",
        "  def get_amplitudes(self):\n",
        "    return np.array(list(self._amplitudes.values()))\n",
        "\n",
        "  def get_features(self):\n",
        "    real = np.real(list(self._amplitudes.values()))\n",
        "    imag = np.imag(list(self._amplitudes.values()))\n",
        "    return np.concatenate((real, imag))\n",
        "\n",
        "  def apply_gate(self, gate, inplace = False):\n",
        "    updated_amplitudes = gate.apply(self)\n",
        "    if inplace:\n",
        "      self._amplitudes = updated_amplitudes\n",
        "      return None\n",
        "\n",
        "    return QuantumState(list(updated_amplitudes.values()))\n",
        "\n",
        "  def fidelity_score(self, other):\n",
        "    # TODO: check on nielsen\n",
        "    # This implementation is from paper\n",
        "    \"\"\"\n",
        "    Args:\n",
        "      other (QuantumState): measure the fidelity between self and another quantum state\n",
        "    Return:\n",
        "      fidelity (float): fidelity score between [0, 1]\n",
        "    \"\"\"\n",
        "    # Inner product can be computed in terms of matrix representation. Page 67 Nielsen-Chuang\n",
        "    return np.square(abs(np.matmul(np.conj(self.get_amplitudes()), other.get_amplitudes())))"
      ],
      "execution_count": 5,
      "outputs": []
    },
    {
      "cell_type": "markdown",
      "metadata": {
        "id": "rboUEAK3ZbWt"
      },
      "source": [
        "### Quantum Gates"
      ]
    },
    {
      "cell_type": "code",
      "metadata": {
        "id": "-HOc4Ouiockr"
      },
      "source": [
        "class QuantumGate:\n",
        "  def __init__(self, name, unitary, target):\n",
        "    \"\"\"\n",
        "    Args: \n",
        "      unitary: 2x2 unitary operator\n",
        "      target: 0 or 1 to denote the qubit the matrix is acting on\n",
        "    \"\"\"\n",
        "    self._name = name\n",
        "    self._U = unitary.flatten()\n",
        "    self._target = target\n",
        "\n",
        "\n",
        "  def apply(self, quantum_state):\n",
        "    \"\"\"\n",
        "    Args:\n",
        "      quantum_state (QuantumState): quantum state to which apply the quantum operator\n",
        "    Return:\n",
        "      updated (dict): didctionary with updated amplitudes\n",
        "    \"\"\"\n",
        "    # Directly implement update rule on the amplitudes for a 2 qubits case. \n",
        "    # NOTE: This approach is not scalable! Refine or use qiskit for more than 2 qubits\n",
        "    a_00, a_01, a_10, a_11 = quantum_state.get_amplitudes()\n",
        "    updated = dict()\n",
        "\n",
        "    if self._target == 0:\n",
        "      updated['00'] = self._U[0]*a_00 + self._U[1]*a_10\n",
        "      updated['01'] = self._U[0]*a_01 + self._U[1]*a_11\n",
        "      updated['10'] = self._U[2]*a_00 + self._U[3]*a_10\n",
        "      updated['11'] = self._U[2]*a_01 + self._U[3]*a_11\n",
        "\n",
        "    else:\n",
        "      updated['00'] = self._U[0]*a_00 + self._U[1]*a_01\n",
        "      updated['01'] = self._U[2]*a_00 + self._U[3]*a_01\n",
        "      updated['10'] = self._U[0]*a_10 + self._U[1]*a_11\n",
        "      updated['11'] = self._U[2]*a_10 + self._U[3]*a_11\n",
        "\n",
        "    # Check if amplitudes still satisfy condition\n",
        "    normalization = reduce(lambda a, b: a+b, map(lambda a: abs(a)**2, updated.values()))\n",
        "    error = f\"Error: sum of squared amplitudes must be = 1.\\n Amplitudes: {list(updated.values())}, summing up to {normalization}\"\n",
        "    assert math.isclose(normalization, 1, rel_tol = 1e-2), error\n",
        "    \n",
        "    return updated\n",
        "\n",
        "\n",
        "class CNOT(QuantumGate):\n",
        "  def __init__(self, control):\n",
        "    \"\"\"\n",
        "    Args:\n",
        "      control (int): if 0, first qubit is the control, else second\n",
        "    Return:\n",
        "      result (QuantumState): quantum state with amplitudes modified\n",
        "    \"\"\"\n",
        "    self._control = control\n",
        "    super().__init__('cnot', np.array([[0, 1], [1, 0]]), 1-control)\n",
        "\n",
        "\n",
        "  def apply(self, quantum_state):\n",
        "    \"\"\"\n",
        "    Args:\n",
        "      state (QuantumState): quantum state to which apply the quantum operator\n",
        "    Return:\n",
        "      result (QuantumState): quantum state with amplitudes modified\n",
        "    \"\"\"\n",
        "    # Directly implement update rule on the amplitudes for a 2 qubits case. \n",
        "    # NOTE: This approach is not scalable! Refine or use qiskit for more than 2 qubits\n",
        "    a_00, a_01, a_10, a_11 = quantum_state.get_amplitudes()\n",
        "    updated = dict()\n",
        "\n",
        "    if self._control == 0: # Then target = 2nd: if 1st qubit == 1, flip 2nd qubit.\n",
        "      updated['00'] = a_00\n",
        "      updated['01'] = a_01\n",
        "      updated['10'] = self._U[0]*a_10 + self._U[1]*a_11\n",
        "      updated['11'] = self._U[2]*a_10 + self._U[3]*a_11\n",
        "\n",
        "    if self._control == 1: # Then control = 1st: if 2nd qubit == 1, flip 1st qubit.\n",
        "      updated['00'] = self._U[0]*a_00 + self._U[1]*a_10\n",
        "      updated['01'] = self._U[0]*a_01 + self._U[1]*a_11\n",
        "      updated['10'] = a_10\n",
        "      updated['11'] = a_11\n",
        "\n",
        "    # Check if amplitudes still satisfy condition\n",
        "    normalization = reduce(lambda a, b: a+b, map(lambda a: abs(a)**2, updated.values()))\n",
        "    error = f\"Error: sum of squared amplitudes must be = 1.\\n Amplitudes: {list(updated.values())}, summing up to {normalization}\"\n",
        "    assert math.isclose(normalization, 1, rel_tol = 1e-2), error\n",
        "    \n",
        "    return updated"
      ],
      "execution_count": 6,
      "outputs": []
    },
    {
      "cell_type": "markdown",
      "metadata": {
        "id": "kfmGXb2TZWpw"
      },
      "source": [
        "### Gates List"
      ]
    },
    {
      "cell_type": "code",
      "metadata": {
        "id": "Pus5TovHiETW"
      },
      "source": [
        "class Gates:\n",
        "  def __init__(self):\n",
        "    gates = dict()\n",
        "    self._num_gates = 0\n",
        "\n",
        "    # Useful\n",
        "    targets = [0, 1]\n",
        "    j = 1j # complex unit\n",
        "\n",
        "    ########### CNOT ###########\n",
        "    gates['CNOT'] = CNOT(control = 0)\n",
        "    self._num_gates += 1\n",
        "\n",
        "    ########### Rotations ###########\n",
        "    angles_names = ['pi', '2pi/3', 'pi/2', 'pi/3', 'pi/4']\n",
        "    angles_values = (math.pi / 2) * np.array([1, 2/3, 1/2, 1/3, 1/4])\n",
        "    angles = {k:v for k,v in zip(angles_names, angles_values)}\n",
        "\n",
        "    # Rx\n",
        "    for name, theta in angles.items():\n",
        "      for t in targets:\n",
        "        key = 'Rx' + str(t) + '(' + name + ')'\n",
        "        gates[key] = QuantumGate(key, np.array([[math.cos(theta), -j*math.sin(theta)],\n",
        "                                                      [-j*math.sin(theta), math.cos(theta)]]), t)\n",
        "        self._num_gates += 1\n",
        "        \n",
        "    # Ry\n",
        "    for name, theta in angles.items():\n",
        "      for t in targets:\n",
        "        key = 'Ry' + str(t) + '(' + name + ')'\n",
        "        gates[key] = QuantumGate(key, np.array([[math.cos(theta), -math.sin(theta)],\n",
        "                                                      [math.sin(theta), math.cos(theta)]]), t)\n",
        "        self._num_gates += 1\n",
        "\n",
        "    # Rz\n",
        "    for name, theta in angles.items():\n",
        "      for t in targets:\n",
        "        key = 'Rz' + str(t) + '(' + name + ')'\n",
        "        gates[key] = QuantumGate(key, np.array([[cmath.exp(-j*theta), 0],\n",
        "                                                      [0, cmath.exp(j*theta)]]), t)\n",
        "        self._num_gates += 1\n",
        "\n",
        "    self._keys = list(gates.keys())\n",
        "    self._gates = list(gates.values())\n",
        "\n",
        "  def num_gates(self):\n",
        "    return self._num_gates"
      ],
      "execution_count": 7,
      "outputs": []
    },
    {
      "cell_type": "markdown",
      "metadata": {
        "id": "EQvWLKKRgZR9"
      },
      "source": [
        "#### Google Gates"
      ]
    },
    {
      "cell_type": "code",
      "metadata": {
        "id": "0a4R9ebGj2rl"
      },
      "source": [
        "class GoogleGates: \n",
        "  def __init__(self, keys = list()):\n",
        "    PI = math.pi\n",
        "    self._keys = keys\n",
        "    self._gates = [\n",
        "                  (cirq.CNOT, None),\n",
        "                  (cirq.rx(PI), cirq.I),\n",
        "                  (cirq.I, cirq.rx(PI)),\n",
        "                  (cirq.rx(2*PI/3), cirq.I),\n",
        "                  (cirq.I, cirq.rx(2*PI/3)),\n",
        "                  (cirq.rx(PI/2), cirq.I),\n",
        "                  (cirq.I, cirq.rx(PI/2)),\n",
        "                  (cirq.rx(PI/3), cirq.I),\n",
        "                  (cirq.I, cirq.rx(PI/3)),\n",
        "                  (cirq.rx(PI/4), cirq.I),\n",
        "                  (cirq.I, cirq.rx(PI/4)),\n",
        "                  (cirq.ry(PI), cirq.I),\n",
        "                  (cirq.I, cirq.ry(PI)),\n",
        "                  (cirq.ry(2*PI/3), cirq.I),\n",
        "                  (cirq.I, cirq.ry(2*PI/3)),\n",
        "                  (cirq.ry(PI/2), cirq.I),\n",
        "                  (cirq.I, cirq.ry(PI/2)),\n",
        "                  (cirq.ry(PI/3), cirq.I),\n",
        "                  (cirq.I, cirq.ry(PI/3)),\n",
        "                  (cirq.ry(PI/4), cirq.I),\n",
        "                  (cirq.I, cirq.ry(PI/4)),\n",
        "                  (cirq.rz(PI), cirq.I),\n",
        "                  (cirq.I, cirq.rz(PI)),\n",
        "                  (cirq.rz(2*PI/3), cirq.I),\n",
        "                  (cirq.I, cirq.rz(2*PI/3)),\n",
        "                  (cirq.rz(PI/2), cirq.I),\n",
        "                  (cirq.I, cirq.rz(PI/2)),\n",
        "                  (cirq.rz(PI/3), cirq.I),\n",
        "                  (cirq.I, cirq.rz(PI/3)),\n",
        "                  (cirq.rz(PI/4), cirq.I),\n",
        "                  (cirq.I, cirq.rz(PI/4))\n",
        "    ]\n",
        "\n",
        "\n",
        "  def num_gates(self):\n",
        "    return len(self._gates)"
      ],
      "execution_count": 8,
      "outputs": []
    },
    {
      "cell_type": "markdown",
      "metadata": {
        "id": "iQJvflImPuhP"
      },
      "source": [
        "# RL Setup"
      ]
    },
    {
      "cell_type": "markdown",
      "metadata": {
        "id": "aflbZWf75E7C"
      },
      "source": [
        "## Environment"
      ]
    },
    {
      "cell_type": "code",
      "metadata": {
        "id": "bL6bfPeCJSbl"
      },
      "source": [
        "class Environment:\n",
        "  def __init__(self, initial_state, target_state, tolerance):\n",
        "    \"\"\"\n",
        "    Args:\n",
        "      initial_state (QuantumState): initial state of the system\n",
        "      target_state (QuantumState): target state of the system\n",
        "      tolerance (float): tolerance in terms of fidelity score\n",
        "    \"\"\"\n",
        "    self._initial_state = initial_state\n",
        "    self._target_state = target_state\n",
        "    self._tolerance = tolerance # tolerance in terms of fidelity between\n",
        "    self._quantum_gates, self._keys, self._num_gates = self.gates_set()\n",
        "    self._terminal_fidelity = 0 # used to retrieve the info at the end of an episode\n",
        "    self._terminal_state = None # used to retrieve the info at the end of an episode\n",
        "    \n",
        "    # Used to initialize env from scratch.\n",
        "    self.reset() \n",
        "\n",
        "    \n",
        "  def gates_set(self):\n",
        "    \"\"\"\n",
        "    Returns:\n",
        "      gates._gates (List[QuantumGate]): return the list with available QuantumGate objects\n",
        "      gates._keys (Dict[String: Int]): dictionary mapping a gate to its action index\n",
        "      gates.num_gates() (int): number of available gates (actions)\n",
        "    \"\"\"\n",
        "    gates = Gates()\n",
        "    return gates._gates, gates._keys, gates.num_gates()\n",
        "\n",
        "  def step(self, action):\n",
        "    \"\"\"\n",
        "    Given a gate, apply it to self._state.\n",
        "    Set the reward, resulting state and discount.\n",
        "    Return these values, along with the information if the terminal state has been reached\n",
        "    Args:\n",
        "      action (int): action index to select a QuantumGate\n",
        "\n",
        "    Return:\n",
        "      reward, discount, next_state features, terminal\n",
        "    \"\"\"\n",
        "    # Get and apply action. next_state is a QuantumState\n",
        "    gate = self._quantum_gates[action]\n",
        "    next_state = self._state.apply_gate(gate)\n",
        "\n",
        "    # Compare new state and target\n",
        "    fidelity = next_state.fidelity_score(self._target_state)\n",
        "\n",
        "    # Assign reward based on state and fidelity\n",
        "    terminal = self.is_terminal(fidelity)\n",
        "\n",
        "    # Terminal state\n",
        "    if terminal:\n",
        "      reward = +100.\n",
        "      discount = 0.\n",
        "      self._terminal_fidelity = fidelity\n",
        "      self._terminal_state = next_state\n",
        "      self.reset()\n",
        "    else:\n",
        "      reward = -6.\n",
        "      discount = 0.9\n",
        "      self._state = next_state\n",
        "\n",
        "    # Return the features, not the state itself\n",
        "    return reward, discount, self.get_obs(), terminal\n",
        "\n",
        "\n",
        "  def is_terminal(self, fidelity):\n",
        "    \"\"\"\n",
        "    Check if, by a level of self.tolerance, state is terminal\n",
        "    \"\"\"\n",
        "    if fidelity > (1 - self._tolerance):\n",
        "      return True\n",
        "\n",
        "    return False\n",
        "\n",
        "\n",
        "  def get_obs(self):\n",
        "    return self._state.get_features()\n",
        "\n",
        "\n",
        "  def reset(self):\n",
        "    self._state = self._initial_state"
      ],
      "execution_count": 9,
      "outputs": []
    },
    {
      "cell_type": "markdown",
      "metadata": {
        "id": "I5ZoAqcy3qkH"
      },
      "source": [
        "## Agent\n",
        "There is a bug I think, when I provide as next_state the initial state I\n",
        "- agent is in state self._state: a state contiguous to the terminal one, T, that we call S\n",
        "- the update is done for S wrt to next_state, which in this case is I, and not T as expected. There are 2 major drawbacks as consequence  \n",
        "One is that the update is done wrongly: r + g*q(I), but I here has not any sense\n",
        "Two is that I will never learn that this state is contiguous.\n",
        "\n",
        "Now, I have to reason about this, because I think in the assignment they used this approach, but better to write down this doubt.\n",
        "\n",
        "NO! This issue is fixed by putting discount = 0. Alright :)"
      ]
    },
    {
      "cell_type": "code",
      "metadata": {
        "id": "hWp0UZ7q6VVF"
      },
      "source": [
        "class ReplayBuffer(object):\n",
        "\n",
        "  def __init__(self):\n",
        "    self.buffer = []\n",
        "  \n",
        "  def append_transition(self, transition):\n",
        "    \"\"\"\n",
        "    Args:\n",
        "      transition (tuple): (state, action, reward, discount, next state)\n",
        "    \"\"\"\n",
        "    self.buffer.append(transition)\n",
        "\n",
        "  def sample_transition(self):\n",
        "    return random.choice(self.buffer)"
      ],
      "execution_count": 10,
      "outputs": []
    },
    {
      "cell_type": "code",
      "metadata": {
        "id": "De-sHIvHwKra"
      },
      "source": [
        "# Least Square TD Agent: action value function approximation\n",
        "# implemented with gradient descent.\n",
        "class LSTDAgent:\n",
        "  def __init__(self, number_of_actions, number_of_features,\n",
        "      initial_state, step_size, num_offline_updates):\n",
        "    \"\"\"\n",
        "    Args:\n",
        "      initial_state: it is a feature vector!\n",
        "    \"\"\"\n",
        "    self._number_of_actions = number_of_actions\n",
        "    self._W = np.zeros((number_of_actions, number_of_features))\n",
        "    self._step_size = step_size\n",
        "    self._initial_state = initial_state\n",
        "\n",
        "    self._num_offline_updates = num_offline_updates\n",
        "    self._replay_buffer = ReplayBuffer() # supervised dataset\n",
        "\n",
        "    # St self._state to initial state and pick an action randomly\n",
        "    self.reset(True)\n",
        "\n",
        "\n",
        "  def behaviour_policy(self, state = None):\n",
        "    # greedy = np.random.choice([True, False], p=[1-self._eps, self._eps])\n",
        "    # if greedy:\n",
        "    #   return np.argmax(self.q(state))\n",
        "    return random.choice(range(self._number_of_actions))\n",
        "\n",
        "\n",
        "  def q(self, state):\n",
        "    \"\"\"\n",
        "    Args:\n",
        "      state (list): list of the amplitudes := features of the state\n",
        "    \"\"\"\n",
        "    return np.matmul(self._W, state)\n",
        "\n",
        "\n",
        "  def step(self, reward, discount, next_state):\n",
        "    \"\"\"\n",
        "    Args:\n",
        "      next_state (list): list of the amplitude: these are already features, not a QuantumState instance\n",
        "      terminal (boolean): if next_state is the terminal state\n",
        "    \"\"\"\n",
        "    s = self._state\n",
        "    a = self._action\n",
        "    r = reward\n",
        "    next_s = next_state\n",
        "    g = discount\n",
        "\n",
        "    self._W[a] += self._step_size * (r + g * np.max(self.q(next_s)) - self.q(s)[a]) * s\n",
        "\n",
        "    # Experience replay\n",
        "    self._replay_buffer.append_transition((s, a, r, g, next_s))\n",
        "    for _ in range(self._num_offline_updates):\n",
        "      s, a, r, g, next_s = self._replay_buffer.sample_transition()\n",
        "      self._W[a] += self._step_size * (r + g * np.max(self.q(next_s)) - self.q(s)[a]) * s\n",
        "\n",
        "    next_a = self.behaviour_policy()\n",
        "    self._action = next_a\n",
        "    self._state = next_s\n",
        "\n",
        "    return next_a\n",
        "\n",
        "\n",
        "  def inference(self, reward, discount, next_state):\n",
        "    s = self._state\n",
        "    a = self._action\n",
        "    r = reward\n",
        "    next_s = next_state\n",
        "    g = discount\n",
        "\n",
        "    next_a = np.argmax(self.q(next_s))\n",
        "    self._action = next_a\n",
        "    self._state = next_s\n",
        "\n",
        "    return next_a\n",
        "\n",
        "\n",
        "  def reset(self, random = False):\n",
        "    self._state = self._initial_state\n",
        "    if random:\n",
        "      self._action = self.behaviour_policy()\n",
        "    else:\n",
        "      self._action = np.argmax(self.q(self._state))"
      ],
      "execution_count": 11,
      "outputs": []
    },
    {
      "cell_type": "markdown",
      "metadata": {
        "id": "C5_vQxz7Ke2s"
      },
      "source": [
        "# Helper Functions"
      ]
    },
    {
      "cell_type": "code",
      "metadata": {
        "id": "dSwKia38JvwL"
      },
      "source": [
        "def compare_circuits(circuit_gates, final_state, target_state, path):\n",
        "  \"\"\"\n",
        "  Compare results obtained by google gates vs my custom gates implementation\n",
        "  Args:\n",
        "    circuit_gates (List[int]): indices of the gates in the circuit defined by the agent\n",
        "    final_state (QuantumState): terminal state reached by the agent\n",
        "    target_state (QuantumState): target state of TD agent\n",
        "  \"\"\"\n",
        "  my_gates = Gates()\n",
        "  google_gates = GoogleGates(my_gates._keys)\n",
        "\n",
        "  # Google initialization\n",
        "  q0 = cirq.NamedQubit('q0')\n",
        "  q1 = cirq.NamedQubit('q1')\n",
        "  circuit = cirq.Circuit()\n",
        "  def basic_circuit(u0, u1):\n",
        "    if (u1 is not None):\n",
        "      yield u0(q0), u1(q1)\n",
        "    else:\n",
        "      yield u0(q0, q1)\n",
        "\n",
        "  # Create the circuit with both Google API and my implementation\n",
        "  q = QuantumState(np.array([1, 0, 0, 0]))\n",
        "  for idx in circuit_gates:\n",
        "    q = q.apply_gate(my_gates._gates[idx])\n",
        "    circuit.append(basic_circuit(*google_gates._gates[idx]))\n",
        "\n",
        "  # Simulate Google circuit - oracle\n",
        "  simulator = Simulator()\n",
        "  result = simulator.simulate(circuit, qubit_order=[q0, q1])\n",
        "\n",
        "  # Check coherence between approximate terminal states\n",
        "  assert np.all(np.around(q.get_amplitudes(), 3) == np.around(final_state.get_amplitudes(), 3)),\\\n",
        "   f\"Unexpected terminal state: got {np.around(q.get_amplitudes(), 3)} rather than {np.around(final_state.get_amplitudes(), 3)}\"\n",
        "\n",
        "  # Check coherence between Google result and mine\n",
        "  # assert np.all(np.around(q.get_amplitudes(), 3) == np.around(result.final_state_vector, 3)),\\\n",
        "  #  f\"Unexpected terminal state: got {np.around(q.get_amplitudes(), 3)} rather than {np.around(result.final_state_vector, 3)}\"\n",
        "\n",
        "  print(f\"Approximate state: {np.around(final_state.get_amplitudes(), 3)}\")\n",
        "  print(f\"Target state: {np.around(target_state.get_amplitudes(), 3)}\")\n",
        "  print(f\"Fidelity score: {target_state.fidelity_score(final_state)}. Number of gates: {len(circuit_gates)}\")\n",
        "\n",
        "  print(\"\")\n",
        "  print(circuit)\n",
        "\n",
        "  logs(final_state, target_state, circuit_gates, circuit, path)"
      ],
      "execution_count": 97,
      "outputs": []
    },
    {
      "cell_type": "code",
      "metadata": {
        "id": "WyWWqvKkQSMj"
      },
      "source": [
        "def get_quantum_state(tolerance, seed, i):\n",
        "  \"\"\"\n",
        "  Get a feasible set of amplitudes of a quantum state, \n",
        "  by applying a random number of random gates to the initial state |00>\n",
        "\n",
        "  Return:\n",
        "    amplitudes (np.array): list of new state amplitudes\n",
        "  \"\"\"\n",
        "  random.seed(seed + i)\n",
        "  np.random.seed(seed + i)\n",
        "\n",
        "  gates = GoogleGates()\n",
        "\n",
        "  # Circuit initialization\n",
        "  q0 = cirq.NamedQubit('q0')\n",
        "  q1 = cirq.NamedQubit('q1')\n",
        "  circuit = cirq.Circuit()\n",
        "  def basic_circuit(u0, u1):\n",
        "    if (u1 is not None):\n",
        "      yield u0(q0), u1(q1)\n",
        "    else:\n",
        "      yield u0(q0, q1)\n",
        "\n",
        "  is_next = True\n",
        "  while is_next:\n",
        "    idx = random.choice(range(gates.num_gates()))\n",
        "    circuit.append(basic_circuit(*gates._gates[idx]))\n",
        "    is_next = np.random.choice([True, False], p=[0.9, 0.1])\n",
        "\n",
        "  simulator = Simulator()\n",
        "  result = simulator.simulate(circuit, qubit_order=[q0, q1])\n",
        "\n",
        "  amplitudes = result.final_state_vector\n",
        "\n",
        "  # Check correctness of the new state\n",
        "  error = \"Error: sum of squared amplitudes must be = 1\"\n",
        "  val = reduce(lambda a, b: a+b, map(lambda a: abs(a)**2, amplitudes))\n",
        "  assert math.isclose(val, 1, rel_tol = 1e-2), error + f\" instead is {val}\"\n",
        "\n",
        "  # If I am equal to the initial state\n",
        "  if QuantumState(amplitudes).fidelity_score(QuantumState(np.array([1, 0, 0, 0]))) > (1-tolerance):\n",
        "    get_quantum_state(tolerance, seed, i*100)\n",
        "\n",
        "  return amplitudes"
      ],
      "execution_count": 98,
      "outputs": []
    },
    {
      "cell_type": "code",
      "metadata": {
        "id": "ZBEHNVrNmria"
      },
      "source": [
        "def logs(final_state, target_state, circuit_gates, circuit, path):\n",
        "  \"\"\"\n",
        "  extra: any extra information I want to include in the logging\n",
        "  \"\"\"\n",
        "  with open(path, 'a+') as f:\n",
        "    f.write(f\"Approximate state: {np.around(final_state.get_amplitudes(), 3)}\\n\")\n",
        "    f.write(f\"Target state: {np.around(target_state.get_amplitudes(), 3)}\\n\")\n",
        "    f.write(f\"Fidelity score: {target_state.fidelity_score(final_state)}. Number of gates: {len(circuit_gates)}\\n\")\n",
        "    f.write(f\"Gates List: \")\n",
        "    f.write(f\"{circuit_gates}\\n\")\n",
        "    f.write(f\"{circuit}\\n\\n\")"
      ],
      "execution_count": 91,
      "outputs": []
    },
    {
      "cell_type": "markdown",
      "metadata": {
        "id": "OFL1yPnM06xH"
      },
      "source": [
        "# Experiment Facade\n",
        "Class to handle experiments and visualization  \n",
        "- [X] run experiment\n",
        "- [ ] Allow for agent.q visualization for a state, providing labels to actions. This allow to see if very close states are associated to very close actions\n",
        "- [ ] Monitor number of steps as experience grow: is the agent actually learning good? ==> in this sense no, but this is because of local minima. I do not have guarantee to find a global optimum with gradient descent (verify)\n",
        "- [ ] Monitor the weights (see if I can find any meaning): need to put labels about actions ==> does an action focuses on an amplitudes subset as I would expect (e.g. if an amplitude is not touched by  gate, than I expect its weight value to be low\n",
        "- [X] Monitor fidelity score inside episodes --> add inference every N steps\n",
        "- [ ] Monitor impact of initial gate\n"
      ]
    },
    {
      "cell_type": "code",
      "metadata": {
        "id": "DfMBR8Ws0sqy"
      },
      "source": [
        "# Facade class to run experiment\n",
        "class Experiment:\n",
        "  def __init__(self, start_state, target_state, tolerance, number_of_episodes, step_size, num_offline_updates, inference_ratio = 200):\n",
        "\n",
        "    self._env = Environment(QuantumState(start_state), QuantumState(target_state), tolerance)\n",
        "\n",
        "    number_of_actions = len(self._env._keys)\n",
        "    initial_features = self._env.get_obs()\n",
        "\n",
        "    self._agent = LSTDAgent(number_of_actions, len(initial_features), initial_features,\n",
        "                            step_size, num_offline_updates)\n",
        "    \n",
        "    self._number_of_episodes = number_of_episodes\n",
        "\n",
        "    self._episodes_gates = [] # check disrtribution of gates in different solutions\n",
        "    self._mean_rewards = [] # list of mean reward for each episode\n",
        "    self._inference_ratio = inference_ratio # run an inference episode every inference_ratio training episodes\n",
        "    self._successes = 0\n",
        "\n",
        "\n",
        "  def run_experiment(self):\n",
        "    \"\"\"\n",
        "    Run episodes, gathering statistics and updating user on conosole.\n",
        "    \"\"\"\n",
        "    # Run inference on 1 out of inference_ratio training episodes\n",
        "    min_steps = -1\n",
        "    min_gates = []\n",
        "    min_terminal_state = None\n",
        "    for episode in range(self._number_of_episodes):\n",
        "        self.run_episode()\n",
        "        gates, terminal_state = self.run_inference(episode)\n",
        "        if min_steps == -1 or len(gates) < min_steps:\n",
        "            min_steps = len(gates)\n",
        "            min_gates = gates\n",
        "            min_terminal_state = terminal_state\n",
        "\n",
        "    return min_gates, min_terminal_state\n",
        "\n",
        "\n",
        "  def run_episode(self):\n",
        "    \"\"\"\n",
        "    Run a single episode.\n",
        "    At the beginning of an episode we must guarantee\n",
        "    - initial state in the environment\n",
        "    - initial state in the agent\n",
        "    \"\"\"\n",
        "    terminal = False\n",
        "    action = self._agent._action\n",
        "    while not terminal:\n",
        "      reward, discount, next_s, terminal = self._env.step(action)\n",
        "      action = self._agent.step(reward, discount, next_s)\n",
        "\n",
        "    # Add a reset step below, to take first action\n",
        "    self._agent.reset()\n",
        "\n",
        "\n",
        "  def run_inference(self, episode):\n",
        "    \"\"\"\n",
        "    Run an episode using the optimal policy learned\n",
        "    \"\"\"\n",
        "    terminal = False\n",
        "    action = self._agent._action\n",
        "    gates = []\n",
        "    while not terminal and len(gates) <= 400:\n",
        "      gates.append(action)\n",
        "      reward, discount, next_s, terminal = self._env.step(action)\n",
        "      action = self._agent.inference(reward, discount, next_s)\n",
        "\n",
        "    if not terminal:\n",
        "      return gates, self._env._state\n",
        "\n",
        "    max_gates = 20\n",
        "    if len(gates) < max_gates:\n",
        "      self._successes += 1\n",
        "      print(f\"Episode {episode}: inference completed in {len(gates)} steps. Fidelity score: {self._env._terminal_fidelity}\")\n",
        "\n",
        "    return gates, self._env._terminal_state\n",
        "\n",
        "  \n",
        "  def q_values(self):\n",
        "    \"\"\"\n",
        "    The function should plot, in a [0, 1] complex plane, the value function\n",
        "    on the z axis, for each of the 4 value of amplitude.\n",
        "    In order to get reasonable values and understand the effect of the amplitude\n",
        "    under analysis on the overall q_values, the remaining amplitudes values will \n",
        "    be set to the target amplitudes.\n",
        "    \"\"\"\n",
        "    fig, ax = plt.subplots(subplot_kw={\"projection\": \"3d\"})\n",
        "\n",
        "    state = self._env._target_state\n",
        "    features = state.get_features()\n",
        "    x = np.linspace(0, 1, num=100)\n",
        "    y = np.linspace(0, 1, num=100)\n",
        "    grid = np.meshgrid\n",
        "    q = []\n",
        "    for i in x:\n",
        "      row = []\n",
        "      for k in y:\n",
        "        features[0] = i\n",
        "        features[0] = k\n",
        "        row.append(self._agent.q(features))\n",
        "      \n",
        "      q.append(row)\n",
        "\n",
        "    q = np.array(q)\n",
        "    surf = ax.plot_surface(x, y, np.squeeze(q[:, :, 0]), cmap=cm.coolwarm,\n",
        "                       linewidth=0, antialiased=False)\n",
        "    \n",
        "    # Add a color bar which maps values to colors.\n",
        "    fig.colorbar(surf, shrink=0.5, aspect=5)\n",
        "\n",
        "    plt.show()"
      ],
      "execution_count": 94,
      "outputs": []
    },
    {
      "cell_type": "markdown",
      "metadata": {
        "id": "2YKa4MYQ0tUp"
      },
      "source": [
        "# Experiment"
      ]
    },
    {
      "cell_type": "markdown",
      "metadata": {
        "id": "EN0SmXxG_LPx"
      },
      "source": [
        "- Need to tune all the parameters below. In particular, it is important to understand upt to which point we can decrease the tolerance.\n",
        "- Substitute TRAINING_EPISODES with number of training steps "
      ]
    },
    {
      "cell_type": "code",
      "metadata": {
        "id": "3R5nEorB3kgW"
      },
      "source": [
        "TOLERANCE = 0.1\n",
        "TRAINING_EPISODES = 100\n",
        "STEP_SIZE = 0.0001\n",
        "NUM_OFFLINE_UPDATES = 0 # WAY WORSE IF != 0\n",
        "SEED = 100\n",
        "NUM_EXPERIMENTS = 10\n",
        "PATH = \"logs.txt\""
      ],
      "execution_count": 95,
      "outputs": []
    },
    {
      "cell_type": "code",
      "metadata": {
        "id": "CxfbO_gNpdtC"
      },
      "source": [
        "with open(PATH, \"w+\") as f:\n",
        "  f.write(f\"TOLERANCE: {TOLERANCE}\\n\")\n",
        "  f.write(f\"TRAINING_EPISODES: {TRAINING_EPISODES}\\n\")\n",
        "  f.write(f\"STEP_SIZE: {STEP_SIZE}\\n\")\n",
        "  f.write(f\"NUM_OFFLINE_UPDATES: {NUM_OFFLINE_UPDATES}\\n\")\n",
        "  f.write(f\"SEED: {SEED}\\n\")\n",
        "  f.write(f\"NUM_EXPERIMENTS: {NUM_EXPERIMENTS}\\n\\n\")"
      ],
      "execution_count": 96,
      "outputs": []
    },
    {
      "cell_type": "markdown",
      "metadata": {
        "id": "UbXs0upGaB2d"
      },
      "source": [
        "TODO:\n",
        "- Best policy? Per ora, numero minimo di gates\n",
        "- Testare replay ==> set up logging for comparison\n",
        "- Check fidelity score implementation correctness\n",
        "- Spiegare comportamento oscillatorio: secondo me dato lo spazio di ricerca cosi grande, il rischio è che esca facilmente da un local minimum la funzione"
      ]
    },
    {
      "cell_type": "code",
      "metadata": {
        "colab": {
          "base_uri": "https://localhost:8080/",
          "height": 1000
        },
        "id": "7b2pDqPiVFxp",
        "outputId": "55876fe1-ee5a-4326-bb37-748b27b3d6fb"
      },
      "source": [
        "for i in range(NUM_EXPERIMENTS):\n",
        "  start = [1, 0, 0, 0]\n",
        "  target = get_quantum_state(TOLERANCE, SEED, i)\n",
        "\n",
        "  print(f\"Experiment {i}\")\n",
        "\n",
        "  experiment = Experiment(start, target, TOLERANCE, TRAINING_EPISODES, STEP_SIZE, NUM_OFFLINE_UPDATES)\n",
        "  circuit_gates, terminal_state = experiment.run_experiment()\n",
        "  target_state = QuantumState(target)\n",
        "  compare_circuits(circuit_gates, terminal_state, target_state, PATH)\n",
        "  print(\"\")\n",
        "\n",
        "  sns.heatmap(experiment._agent._W)\n",
        "  plt.show()\n",
        "  print(\"\")\n",
        "  print(\"\")   "
      ],
      "execution_count": 99,
      "outputs": [
        {
          "output_type": "stream",
          "text": [
            "Experiment 0\n",
            "Episode 3: inference completed in 4 steps. Fidelity score: 0.9432139355926117\n",
            "Episode 18: inference completed in 15 steps. Fidelity score: 0.9141676234021038\n",
            "Episode 22: inference completed in 13 steps. Fidelity score: 0.902171639966531\n",
            "Episode 23: inference completed in 6 steps. Fidelity score: 0.9423254750524278\n",
            "Episode 24: inference completed in 8 steps. Fidelity score: 0.9432139355926119\n",
            "Episode 25: inference completed in 8 steps. Fidelity score: 0.9432139355926119\n",
            "Episode 30: inference completed in 10 steps. Fidelity score: 0.9579772349762904\n",
            "Episode 31: inference completed in 9 steps. Fidelity score: 0.9410616760266614\n",
            "Episode 33: inference completed in 8 steps. Fidelity score: 0.9061904194606005\n",
            "Episode 34: inference completed in 8 steps. Fidelity score: 0.9061904194606005\n",
            "Episode 35: inference completed in 6 steps. Fidelity score: 0.9579772349762904\n",
            "Episode 38: inference completed in 11 steps. Fidelity score: 0.9264582081159672\n",
            "Episode 45: inference completed in 14 steps. Fidelity score: 0.904644709362109\n",
            "Episode 58: inference completed in 18 steps. Fidelity score: 0.9647901525428301\n",
            "Episode 87: inference completed in 15 steps. Fidelity score: 0.942619608343242\n",
            "Approximate state: [ 0. +0.j     0. -0.j     0. -0.866j -0.5+0.j   ]\n",
            "Target state: [ 0.061-0.079j -0.076-0.032j -0.319+0.697j  0.62 +0.107j]\n",
            "Fidelity score: 0.9432139355926117. Number of gates: 4\n",
            "\n",
            "q0: ───Rx(0.333π)───Rx(0.333π)───I────────────Rx(0.333π)───\n",
            "\n",
            "q1: ───I────────────I────────────Rx(0.333π)───I────────────\n",
            "\n"
          ],
          "name": "stdout"
        },
        {
          "output_type": "display_data",
          "data": {
            "image/png": "[encoded data removed]",
            "text/plain": [
              "<Figure size 432x288 with 2 Axes>"
            ]
          },
          "metadata": {
            "tags": [],
            "needs_background": "light"
          }
        },
        {
          "output_type": "stream",
          "text": [
            "\n",
            "\n",
            "Experiment 1\n",
            "Episode 17: inference completed in 12 steps. Fidelity score: 0.9023024500216419\n",
            "Episode 26: inference completed in 17 steps. Fidelity score: 0.9171824560587556\n",
            "Episode 28: inference completed in 9 steps. Fidelity score: 0.900087064005484\n",
            "Episode 34: inference completed in 10 steps. Fidelity score: 0.960978014569976\n",
            "Episode 90: inference completed in 15 steps. Fidelity score: 0.9663582255022142\n",
            "Episode 91: inference completed in 15 steps. Fidelity score: 0.9663582255022142\n",
            "Approximate state: [ 0.375-0.375j -0.65 +0.217j  0.217-0.217j -0.375+0.125j]\n",
            "Target state: [-0.354-0.586j  0.01 +0.525j -0.039-0.398j -0.127+0.28j ]\n",
            "Fidelity score: 0.900087064005484. Number of gates: 9\n",
            "\n",
            "q0: ───Ry(0.667π)───I────────────I────────────Rz(0.667π)───I────────────I───────Rx(0.5π)───Ry(0.667π)───Rx(0.5π)───\n",
            "\n",
            "q1: ───I────────────Ry(0.667π)───Rx(0.667π)───I────────────Rx(0.667π)───Ry(π)───I──────────I────────────I──────────\n",
            "\n"
          ],
          "name": "stdout"
        },
        {
          "output_type": "display_data",
          "data": {
            "image/png": "[encoded data removed]",
            "text/plain": [
              "<Figure size 432x288 with 2 Axes>"
            ]
          },
          "metadata": {
            "tags": [],
            "needs_background": "light"
          }
        },
        {
          "output_type": "stream",
          "text": [
            "\n",
            "\n",
            "Experiment 2\n",
            "Episode 23: inference completed in 8 steps. Fidelity score: 0.9095008544742579\n",
            "Episode 52: inference completed in 11 steps. Fidelity score: 0.9319573417569171\n",
            "Episode 61: inference completed in 19 steps. Fidelity score: 0.9400494983039169\n",
            "Episode 62: inference completed in 19 steps. Fidelity score: 0.9400494983039169\n",
            "Approximate state: [-0.434-0.346j -0.2  +0.251j -0.144+0.649j  0.374+0.083j]\n",
            "Target state: [ 0.479+0.037j -0.18 -0.326j -0.188-0.599j -0.307+0.377j]\n",
            "Fidelity score: 0.9095008544742579. Number of gates: 8\n",
            "\n",
            "q0: ───I────────────Ry(0.5π)───Ry(0.5π)───Ry(0.667π)───Rz(0.333π)───Rx(0.25π)───I────────────I───────\n",
            "\n",
            "q1: ───Rz(0.333π)───I──────────I──────────I────────────I────────────I───────────Rx(0.667π)───Ry(π)───\n",
            "\n"
          ],
          "name": "stdout"
        },
        {
          "output_type": "display_data",
          "data": {
            "image/png": "[encoded data removed]",
            "text/plain": [
              "<Figure size 432x288 with 2 Axes>"
            ]
          },
          "metadata": {
            "tags": [],
            "needs_background": "light"
          }
        },
        {
          "output_type": "stream",
          "text": [
            "\n",
            "\n",
            "Experiment 3\n",
            "Episode 2: inference completed in 16 steps. Fidelity score: 0.9171166224901106\n",
            "Episode 23: inference completed in 1 steps. Fidelity score: 0.9330124668735794\n",
            "Episode 24: inference completed in 1 steps. Fidelity score: 0.9330124668735794\n",
            "Episode 25: inference completed in 1 steps. Fidelity score: 0.9330124668735794\n",
            "Episode 26: inference completed in 1 steps. Fidelity score: 0.9330124668735794\n",
            "Episode 27: inference completed in 1 steps. Fidelity score: 0.9330124668735794\n",
            "Episode 28: inference completed in 1 steps. Fidelity score: 0.9330124668735794\n",
            "Episode 29: inference completed in 1 steps. Fidelity score: 0.9330124668735794\n",
            "Episode 30: inference completed in 1 steps. Fidelity score: 0.9330124668735794\n",
            "Episode 31: inference completed in 1 steps. Fidelity score: 0.9330124668735794\n",
            "Episode 32: inference completed in 1 steps. Fidelity score: 0.9330124668735794\n",
            "Episode 33: inference completed in 1 steps. Fidelity score: 0.9330124668735794\n",
            "Episode 34: inference completed in 1 steps. Fidelity score: 0.9330124668735794\n",
            "Episode 35: inference completed in 1 steps. Fidelity score: 0.9330124668735794\n",
            "Episode 36: inference completed in 1 steps. Fidelity score: 0.9330124668735794\n",
            "Episode 37: inference completed in 1 steps. Fidelity score: 0.9330124668735794\n",
            "Episode 38: inference completed in 1 steps. Fidelity score: 0.9330124668735794\n",
            "Episode 39: inference completed in 1 steps. Fidelity score: 0.9330124668735794\n",
            "Episode 40: inference completed in 1 steps. Fidelity score: 0.9330124668735794\n",
            "Episode 41: inference completed in 1 steps. Fidelity score: 0.9330124668735794\n",
            "Episode 42: inference completed in 1 steps. Fidelity score: 0.9330124668735794\n",
            "Episode 43: inference completed in 1 steps. Fidelity score: 0.9330124668735794\n",
            "Episode 44: inference completed in 1 steps. Fidelity score: 0.9330124668735794\n",
            "Episode 45: inference completed in 1 steps. Fidelity score: 0.9330124668735794\n",
            "Episode 46: inference completed in 1 steps. Fidelity score: 0.9330124668735794\n",
            "Episode 47: inference completed in 1 steps. Fidelity score: 0.9330124668735794\n",
            "Episode 48: inference completed in 1 steps. Fidelity score: 0.9330124668735794\n",
            "Episode 49: inference completed in 1 steps. Fidelity score: 0.9330124668735794\n",
            "Episode 50: inference completed in 1 steps. Fidelity score: 0.9330124668735794\n",
            "Episode 51: inference completed in 1 steps. Fidelity score: 0.9330124668735794\n",
            "Episode 52: inference completed in 1 steps. Fidelity score: 0.9330124668735794\n",
            "Episode 53: inference completed in 1 steps. Fidelity score: 0.9330124668735794\n",
            "Episode 54: inference completed in 1 steps. Fidelity score: 0.9330124668735794\n",
            "Episode 55: inference completed in 1 steps. Fidelity score: 0.9330124668735794\n",
            "Episode 56: inference completed in 1 steps. Fidelity score: 0.9330124668735794\n",
            "Episode 57: inference completed in 1 steps. Fidelity score: 0.9330124668735794\n",
            "Episode 58: inference completed in 1 steps. Fidelity score: 0.9330124668735794\n",
            "Episode 59: inference completed in 1 steps. Fidelity score: 0.9330124668735794\n",
            "Episode 60: inference completed in 1 steps. Fidelity score: 0.9330124668735794\n",
            "Episode 61: inference completed in 1 steps. Fidelity score: 0.9330124668735794\n",
            "Episode 62: inference completed in 1 steps. Fidelity score: 0.9330124668735794\n",
            "Episode 63: inference completed in 1 steps. Fidelity score: 0.9330124668735794\n",
            "Episode 64: inference completed in 1 steps. Fidelity score: 0.9330124668735794\n",
            "Episode 65: inference completed in 1 steps. Fidelity score: 0.9330124668735794\n",
            "Episode 66: inference completed in 1 steps. Fidelity score: 0.9330124668735794\n",
            "Episode 67: inference completed in 1 steps. Fidelity score: 0.9330124668735794\n",
            "Episode 68: inference completed in 1 steps. Fidelity score: 0.9330124668735794\n",
            "Episode 69: inference completed in 1 steps. Fidelity score: 0.9330124668735794\n",
            "Episode 70: inference completed in 1 steps. Fidelity score: 0.9330124668735794\n",
            "Episode 71: inference completed in 1 steps. Fidelity score: 0.9330124668735794\n",
            "Episode 72: inference completed in 1 steps. Fidelity score: 0.9330124668735794\n",
            "Episode 73: inference completed in 1 steps. Fidelity score: 0.9330124668735794\n",
            "Episode 74: inference completed in 1 steps. Fidelity score: 0.9330124668735794\n",
            "Episode 75: inference completed in 1 steps. Fidelity score: 0.9330124668735794\n",
            "Episode 76: inference completed in 1 steps. Fidelity score: 0.9330124668735794\n",
            "Episode 77: inference completed in 1 steps. Fidelity score: 0.9330124668735794\n",
            "Episode 78: inference completed in 1 steps. Fidelity score: 0.9330124668735794\n",
            "Episode 79: inference completed in 1 steps. Fidelity score: 0.9330124668735794\n",
            "Episode 80: inference completed in 1 steps. Fidelity score: 0.9330124668735794\n",
            "Episode 81: inference completed in 1 steps. Fidelity score: 0.9330124668735794\n",
            "Episode 82: inference completed in 1 steps. Fidelity score: 0.9330124668735794\n",
            "Episode 83: inference completed in 1 steps. Fidelity score: 0.9330124668735794\n",
            "Episode 84: inference completed in 1 steps. Fidelity score: 0.9330124668735794\n",
            "Episode 85: inference completed in 1 steps. Fidelity score: 0.9330124668735794\n",
            "Episode 86: inference completed in 1 steps. Fidelity score: 0.9330124668735794\n",
            "Episode 87: inference completed in 1 steps. Fidelity score: 0.9330124668735794\n",
            "Episode 88: inference completed in 1 steps. Fidelity score: 0.9330124668735794\n",
            "Episode 89: inference completed in 1 steps. Fidelity score: 0.9330124668735794\n",
            "Episode 90: inference completed in 1 steps. Fidelity score: 0.9330124668735794\n",
            "Episode 91: inference completed in 1 steps. Fidelity score: 0.9330124668735794\n",
            "Episode 92: inference completed in 1 steps. Fidelity score: 0.9330124668735794\n",
            "Episode 93: inference completed in 1 steps. Fidelity score: 0.9330124668735794\n",
            "Episode 94: inference completed in 1 steps. Fidelity score: 0.9330124668735794\n",
            "Episode 95: inference completed in 1 steps. Fidelity score: 0.9330124668735794\n",
            "Episode 96: inference completed in 1 steps. Fidelity score: 0.9330124668735794\n",
            "Episode 97: inference completed in 1 steps. Fidelity score: 0.9330124668735794\n",
            "Episode 98: inference completed in 1 steps. Fidelity score: 0.9330124668735794\n",
            "Episode 99: inference completed in 1 steps. Fidelity score: 0.9330124668735794\n",
            "Approximate state: [0.924 0.    0.383 0.   ]\n",
            "Target state: [-0.446-0.773j  0.207-0.12j  -0.185-0.32j   0.086-0.05j ]\n",
            "Fidelity score: 0.9330124668735794. Number of gates: 1\n",
            "\n",
            "q0: ───Ry(0.25π)───\n",
            "\n",
            "q1: ───I───────────\n",
            "\n"
          ],
          "name": "stdout"
        },
        {
          "output_type": "display_data",
          "data": {
            "image/png": "[encoded data removed]",
            "text/plain": [
              "<Figure size 432x288 with 2 Axes>"
            ]
          },
          "metadata": {
            "tags": [],
            "needs_background": "light"
          }
        },
        {
          "output_type": "stream",
          "text": [
            "\n",
            "\n",
            "Experiment 4\n",
            "Approximate state: [-0.   +0.683j -0.342-0.592j  0.158+0.092j -0.183+0.j   ]\n",
            "Target state: [ 0.486+0.373j -0.607-0.08j   0.215-0.28j  -0.046+0.351j]\n",
            "Fidelity score: 0.9040062987839347. Number of gates: 23\n",
            "\n",
            "q0: ───Rx(π)───Ry(π)───Ry(0.5π)───Ry(0.333π)───I──────────Ry(0.333π)───I──────────Rz(0.667π)───I──────────Rz(0.667π)───Rx(π)───I──────────I──────────I────────────Rz(π)───Rz(0.5π)───I──────────Rx(π)───Ry(π)───Rz(0.5π)───Rx(π)───Ry(π)───I──────────\n",
            "\n",
            "q1: ───I───────I───────I──────────I────────────Rz(0.5π)───I────────────Rz(0.5π)───I────────────Rz(0.5π)───I────────────I───────Rx(0.5π)───Rx(0.5π)───Rx(0.667π)───I───────I──────────Ry(0.5π)───I───────I───────I──────────I───────I───────Rz(0.5π)───\n",
            "\n"
          ],
          "name": "stdout"
        },
        {
          "output_type": "display_data",
          "data": {
            "image/png": "[encoded data removed]",
            "text/plain": [
              "<Figure size 432x288 with 2 Axes>"
            ]
          },
          "metadata": {
            "tags": [],
            "needs_background": "light"
          }
        },
        {
          "output_type": "stream",
          "text": [
            "\n",
            "\n",
            "Experiment 5\n",
            "Approximate state: [ 0.318+0.168j -0.014-0.359j -0.598+0.113j -0.202+0.575j]\n",
            "Target state: [ 0.327+0.363j -0.03 -0.137j -0.548+0.042j -0.356+0.559j]\n",
            "Fidelity score: 0.9166538210428997. Number of gates: 21\n",
            "\n",
            "q0: ───I───────Ry(0.667π)───I────────────I──────────I────────────I──────────Rz(π)───I──────────Ry(0.667π)───Ry(0.667π)───Ry(0.5π)───Rz(0.25π)───Rz(0.25π)───Rz(0.25π)───I───────Rz(0.333π)───Ry(0.5π)───I────────────@───I───────I──────────\n",
            "                                                                                                                                                                                                                     │\n",
            "q1: ───Ry(π)───I────────────Ry(0.333π)───Rz(0.5π)───Ry(0.333π)───Rz(0.5π)───I───────Rx(0.5π)───I────────────I────────────I──────────I───────────I───────────I───────────Rx(π)───I────────────I──────────Rx(0.333π)───X───Rz(π)───Rz(0.5π)───\n",
            "\n"
          ],
          "name": "stdout"
        },
        {
          "output_type": "display_data",
          "data": {
            "image/png": "[encoded data removed]",
            "text/plain": [
              "<Figure size 432x288 with 2 Axes>"
            ]
          },
          "metadata": {
            "tags": [],
            "needs_background": "light"
          }
        },
        {
          "output_type": "stream",
          "text": [
            "\n",
            "\n",
            "Experiment 6\n",
            "Episode 0: inference completed in 1 steps. Fidelity score: 0.9999999730776532\n",
            "Episode 1: inference completed in 1 steps. Fidelity score: 0.9999999730776532\n",
            "Episode 2: inference completed in 1 steps. Fidelity score: 0.9999999730776532\n",
            "Episode 3: inference completed in 1 steps. Fidelity score: 0.9999999730776532\n",
            "Episode 4: inference completed in 1 steps. Fidelity score: 0.9999999730776532\n",
            "Episode 5: inference completed in 1 steps. Fidelity score: 0.9999999730776532\n",
            "Episode 6: inference completed in 1 steps. Fidelity score: 0.9999999730776532\n",
            "Episode 7: inference completed in 1 steps. Fidelity score: 0.9999999730776532\n",
            "Episode 8: inference completed in 1 steps. Fidelity score: 0.9999999730776532\n",
            "Episode 9: inference completed in 1 steps. Fidelity score: 0.9999999730776532\n",
            "Episode 10: inference completed in 1 steps. Fidelity score: 0.9999999730776532\n",
            "Episode 11: inference completed in 1 steps. Fidelity score: 0.9999999730776532\n",
            "Episode 12: inference completed in 1 steps. Fidelity score: 0.9999999730776532\n",
            "Episode 13: inference completed in 1 steps. Fidelity score: 0.9999999730776532\n",
            "Episode 14: inference completed in 1 steps. Fidelity score: 0.9999999730776532\n",
            "Episode 15: inference completed in 1 steps. Fidelity score: 0.9999999730776532\n",
            "Episode 16: inference completed in 1 steps. Fidelity score: 0.9999999730776532\n",
            "Episode 17: inference completed in 1 steps. Fidelity score: 0.9999999730776532\n",
            "Episode 18: inference completed in 1 steps. Fidelity score: 0.9999999730776532\n",
            "Episode 19: inference completed in 1 steps. Fidelity score: 0.9999999730776532\n",
            "Episode 20: inference completed in 1 steps. Fidelity score: 0.9999999730776532\n",
            "Episode 21: inference completed in 1 steps. Fidelity score: 0.9999999730776532\n",
            "Episode 22: inference completed in 1 steps. Fidelity score: 0.9999999730776532\n",
            "Episode 23: inference completed in 1 steps. Fidelity score: 0.9999999730776532\n",
            "Episode 24: inference completed in 1 steps. Fidelity score: 0.9999999730776532\n",
            "Episode 25: inference completed in 1 steps. Fidelity score: 0.9999999730776532\n",
            "Episode 26: inference completed in 1 steps. Fidelity score: 0.9999999730776532\n",
            "Episode 27: inference completed in 1 steps. Fidelity score: 0.9999999730776532\n",
            "Episode 28: inference completed in 1 steps. Fidelity score: 0.9999999730776532\n",
            "Episode 29: inference completed in 1 steps. Fidelity score: 0.9999999730776532\n",
            "Episode 30: inference completed in 1 steps. Fidelity score: 0.9999999730776532\n",
            "Episode 31: inference completed in 1 steps. Fidelity score: 0.9999999730776532\n",
            "Episode 32: inference completed in 1 steps. Fidelity score: 0.9999999730776532\n",
            "Episode 33: inference completed in 1 steps. Fidelity score: 0.9999999730776532\n",
            "Episode 34: inference completed in 1 steps. Fidelity score: 0.9999999730776532\n",
            "Episode 35: inference completed in 1 steps. Fidelity score: 0.9999999730776532\n",
            "Episode 36: inference completed in 1 steps. Fidelity score: 0.9999999730776532\n",
            "Episode 37: inference completed in 1 steps. Fidelity score: 0.9999999730776532\n",
            "Episode 38: inference completed in 1 steps. Fidelity score: 0.9999999730776532\n",
            "Episode 39: inference completed in 1 steps. Fidelity score: 0.9999999730776532\n",
            "Episode 40: inference completed in 1 steps. Fidelity score: 0.9999999730776532\n",
            "Episode 41: inference completed in 1 steps. Fidelity score: 0.9999999730776532\n",
            "Episode 42: inference completed in 1 steps. Fidelity score: 0.9999999730776532\n",
            "Episode 43: inference completed in 1 steps. Fidelity score: 0.9999999730776532\n",
            "Episode 44: inference completed in 1 steps. Fidelity score: 0.9999999730776532\n",
            "Episode 45: inference completed in 1 steps. Fidelity score: 0.9999999730776532\n",
            "Episode 46: inference completed in 1 steps. Fidelity score: 0.9999999730776532\n",
            "Episode 47: inference completed in 1 steps. Fidelity score: 0.9999999730776532\n",
            "Episode 48: inference completed in 1 steps. Fidelity score: 0.9999999730776532\n",
            "Episode 49: inference completed in 1 steps. Fidelity score: 0.9999999730776532\n",
            "Episode 50: inference completed in 1 steps. Fidelity score: 0.9999999730776532\n",
            "Episode 51: inference completed in 1 steps. Fidelity score: 0.9999999730776532\n",
            "Episode 52: inference completed in 1 steps. Fidelity score: 0.9999999730776532\n",
            "Episode 53: inference completed in 1 steps. Fidelity score: 0.9999999730776532\n",
            "Episode 54: inference completed in 1 steps. Fidelity score: 0.9999999730776532\n",
            "Episode 55: inference completed in 1 steps. Fidelity score: 0.9999999730776532\n",
            "Episode 56: inference completed in 1 steps. Fidelity score: 0.9999999730776532\n",
            "Episode 57: inference completed in 1 steps. Fidelity score: 0.9999999730776532\n",
            "Episode 58: inference completed in 1 steps. Fidelity score: 0.9999999730776532\n",
            "Episode 59: inference completed in 1 steps. Fidelity score: 0.9999999730776532\n",
            "Episode 60: inference completed in 1 steps. Fidelity score: 0.9999999730776532\n",
            "Episode 61: inference completed in 1 steps. Fidelity score: 0.9999999730776532\n",
            "Episode 62: inference completed in 1 steps. Fidelity score: 0.9999999730776532\n",
            "Episode 63: inference completed in 1 steps. Fidelity score: 0.9999999730776532\n",
            "Episode 64: inference completed in 1 steps. Fidelity score: 0.9999999730776532\n",
            "Episode 65: inference completed in 1 steps. Fidelity score: 0.9999999730776532\n",
            "Episode 66: inference completed in 1 steps. Fidelity score: 0.9999999730776532\n",
            "Episode 67: inference completed in 1 steps. Fidelity score: 0.9999999730776532\n",
            "Episode 68: inference completed in 1 steps. Fidelity score: 0.9999999730776532\n",
            "Episode 69: inference completed in 1 steps. Fidelity score: 0.9999999730776532\n",
            "Episode 70: inference completed in 1 steps. Fidelity score: 0.9999999730776532\n",
            "Episode 71: inference completed in 1 steps. Fidelity score: 0.9999999730776532\n",
            "Episode 72: inference completed in 1 steps. Fidelity score: 0.9999999730776532\n",
            "Episode 73: inference completed in 1 steps. Fidelity score: 0.9999999730776532\n",
            "Episode 74: inference completed in 1 steps. Fidelity score: 0.9999999730776532\n",
            "Episode 75: inference completed in 1 steps. Fidelity score: 0.9999999730776532\n",
            "Episode 76: inference completed in 1 steps. Fidelity score: 0.9999999730776532\n",
            "Episode 77: inference completed in 1 steps. Fidelity score: 0.9999999730776532\n",
            "Episode 78: inference completed in 1 steps. Fidelity score: 0.9999999730776532\n",
            "Episode 79: inference completed in 1 steps. Fidelity score: 0.9999999730776532\n",
            "Episode 80: inference completed in 1 steps. Fidelity score: 0.9999999730776532\n",
            "Episode 81: inference completed in 1 steps. Fidelity score: 0.9999999730776532\n",
            "Episode 82: inference completed in 1 steps. Fidelity score: 0.9999999730776532\n",
            "Episode 83: inference completed in 1 steps. Fidelity score: 0.9999999730776532\n",
            "Episode 84: inference completed in 1 steps. Fidelity score: 0.9999999730776532\n",
            "Episode 85: inference completed in 1 steps. Fidelity score: 0.9999999730776532\n",
            "Episode 86: inference completed in 1 steps. Fidelity score: 0.9999999730776532\n",
            "Episode 87: inference completed in 1 steps. Fidelity score: 0.9999999730776532\n",
            "Episode 88: inference completed in 1 steps. Fidelity score: 0.9999999730776532\n",
            "Episode 89: inference completed in 1 steps. Fidelity score: 0.9999999730776532\n",
            "Episode 90: inference completed in 1 steps. Fidelity score: 0.9999999730776532\n",
            "Episode 91: inference completed in 1 steps. Fidelity score: 0.9999999730776532\n",
            "Episode 92: inference completed in 1 steps. Fidelity score: 0.9999999730776532\n",
            "Episode 93: inference completed in 1 steps. Fidelity score: 0.9999999730776532\n",
            "Episode 94: inference completed in 1 steps. Fidelity score: 0.9999999730776532\n",
            "Episode 95: inference completed in 1 steps. Fidelity score: 0.9999999730776532\n",
            "Episode 96: inference completed in 1 steps. Fidelity score: 0.9999999730776532\n",
            "Episode 97: inference completed in 1 steps. Fidelity score: 0.9999999730776532\n",
            "Episode 98: inference completed in 1 steps. Fidelity score: 0.9999999730776532\n",
            "Episode 99: inference completed in 1 steps. Fidelity score: 0.9999999730776532\n",
            "Approximate state: [0.707-0.707j 0.   +0.j    0.   +0.j    0.   +0.j   ]\n",
            "Target state: [-0.5-0.866j  0. +0.j     0. +0.j     0. +0.j   ]\n",
            "Fidelity score: 0.9999999730776532. Number of gates: 1\n",
            "\n",
            "q0: ───Rz(0.5π)───\n",
            "\n",
            "q1: ───I──────────\n",
            "\n"
          ],
          "name": "stdout"
        },
        {
          "output_type": "display_data",
          "data": {
            "image/png": "[encoded data removed]",
            "text/plain": [
              "<Figure size 432x288 with 2 Axes>"
            ]
          },
          "metadata": {
            "tags": [],
            "needs_background": "light"
          }
        },
        {
          "output_type": "stream",
          "text": [
            "\n",
            "\n",
            "Experiment 7\n",
            "Episode 2: inference completed in 16 steps. Fidelity score: 0.9495514199768685\n",
            "Episode 21: inference completed in 8 steps. Fidelity score: 0.9585252803103074\n",
            "Episode 22: inference completed in 5 steps. Fidelity score: 0.9585252803103074\n",
            "Episode 23: inference completed in 8 steps. Fidelity score: 0.9585252803103074\n",
            "Episode 31: inference completed in 7 steps. Fidelity score: 0.9585252803103074\n",
            "Episode 56: inference completed in 19 steps. Fidelity score: 0.9585252849494127\n",
            "Episode 83: inference completed in 6 steps. Fidelity score: 0.9339240055659647\n",
            "Episode 86: inference completed in 6 steps. Fidelity score: 0.9339240055659647\n",
            "Episode 95: inference completed in 6 steps. Fidelity score: 0.9339240055659644\n",
            "Episode 97: inference completed in 6 steps. Fidelity score: 0.9339240055659647\n",
            "Episode 98: inference completed in 6 steps. Fidelity score: 0.9339240055659647\n",
            "Episode 99: inference completed in 6 steps. Fidelity score: 0.9339240055659647\n",
            "Approximate state: [-0.   -0.j    -0.   +0.j    -0.8  +0.331j  0.191+0.462j]\n",
            "Target state: [-0.032+0.144j  0.076+0.039j  0.083+0.849j  0.486+0.081j]\n",
            "Fidelity score: 0.9585252803103074. Number of gates: 5\n",
            "\n",
            "q0: ───Rz(π)───Rz(0.25π)───Rx(0.5π)───I────────────Rx(0.5π)───\n",
            "\n",
            "q1: ───I───────I───────────I──────────Rx(0.333π)───I──────────\n",
            "\n"
          ],
          "name": "stdout"
        },
        {
          "output_type": "display_data",
          "data": {
            "image/png": "[encoded data removed]",
            "text/plain": [
              "<Figure size 432x288 with 2 Axes>"
            ]
          },
          "metadata": {
            "tags": [],
            "needs_background": "light"
          }
        },
        {
          "output_type": "stream",
          "text": [
            "\n",
            "\n",
            "Experiment 8\n",
            "Episode 1: inference completed in 7 steps. Fidelity score: 0.9269267904677885\n",
            "Episode 2: inference completed in 7 steps. Fidelity score: 0.9269267904677885\n",
            "Episode 20: inference completed in 18 steps. Fidelity score: 0.9060681935414201\n",
            "Approximate state: [-0.366-0.635j  0.487-0.281j -0.263+0.152j -0.116-0.202j]\n",
            "Target state: [-0.262+0.577j -0.431-0.516j  0.239+0.108j -0.214+0.179j]\n",
            "Fidelity score: 0.9269267904677885. Number of gates: 7\n",
            "\n",
            "q0: ───I────────────I───────────I───────────I───────────I───────I────────────Rx(0.25π)───\n",
            "\n",
            "q1: ───Rz(0.333π)───Rx(0.25π)───Rx(0.25π)───Rx(0.25π)───Rz(π)───Rx(0.333π)───I───────────\n",
            "\n"
          ],
          "name": "stdout"
        },
        {
          "output_type": "display_data",
          "data": {
            "image/png": "[encoded data removed]",
            "text/plain": [
              "<Figure size 432x288 with 2 Axes>"
            ]
          },
          "metadata": {
            "tags": [],
            "needs_background": "light"
          }
        },
        {
          "output_type": "stream",
          "text": [
            "\n",
            "\n",
            "Experiment 9\n",
            "Episode 80: inference completed in 17 steps. Fidelity score: 0.9134005908143676\n",
            "Approximate state: [-0.234-0.566j -0.486+0.373j -0.327+0.135j  0.215+0.28j ]\n",
            "Target state: [ 0.433-0.217j -0.5  -0.375j -0.   -0.375j -0.433+0.217j]\n",
            "Fidelity score: 0.9134005908143676. Number of gates: 17\n",
            "\n",
            "q0: ───I────────────I────────────Rz(0.333π)───Rz(0.333π)───I──────────I──────────I──────────I────────────I────────────I───────Ry(0.5π)───Rz(0.667π)───Rx(π)───Ry(0.5π)───Rx(0.333π)───Ry(π)───I───────────\n",
            "\n",
            "q1: ───Rz(0.333π)───Rz(0.333π)───I────────────I────────────Rz(0.5π)───Ry(0.5π)───Rz(0.5π)───Rz(0.667π)───Rz(0.667π)───Ry(π)───I──────────I────────────I───────I──────────I────────────I───────Rz(0.25π)───\n",
            "\n"
          ],
          "name": "stdout"
        },
        {
          "output_type": "display_data",
          "data": {
            "image/png": "[encoded data removed]",
            "text/plain": [
              "<Figure size 432x288 with 2 Axes>"
            ]
          },
          "metadata": {
            "tags": [],
            "needs_background": "light"
          }
        },
        {
          "output_type": "stream",
          "text": [
            "\n",
            "\n"
          ],
          "name": "stdout"
        }
      ]
    },
    {
      "cell_type": "code",
      "metadata": {
        "colab": {
          "base_uri": "https://localhost:8080/",
          "height": 17
        },
        "id": "LynFoa72p99I",
        "outputId": "b3b7de86-ea59-4d01-8ddf-e8edbd427cd8"
      },
      "source": [
        "files.download(PATH)"
      ],
      "execution_count": 100,
      "outputs": [
        {
          "output_type": "display_data",
          "data": {
            "application/javascript": [
              "\n",
              "    async function download(id, filename, size) {\n",
              "      if (!google.colab.kernel.accessAllowed) {\n",
              "        return;\n",
              "      }\n",
              "      const div = document.createElement('div');\n",
              "      const label = document.createElement('label');\n",
              "      label.textContent = `Downloading \"${filename}\": `;\n",
              "      div.appendChild(label);\n",
              "      const progress = document.createElement('progress');\n",
              "      progress.max = size;\n",
              "      div.appendChild(progress);\n",
              "      document.body.appendChild(div);\n",
              "\n",
              "      const buffers = [];\n",
              "      let downloaded = 0;\n",
              "\n",
              "      const channel = await google.colab.kernel.comms.open(id);\n",
              "      // Send a message to notify the kernel that we're ready.\n",
              "      channel.send({})\n",
              "\n",
              "      for await (const message of channel.messages) {\n",
              "        // Send a message to notify the kernel that we're ready.\n",
              "        channel.send({})\n",
              "        if (message.buffers) {\n",
              "          for (const buffer of message.buffers) {\n",
              "            buffers.push(buffer);\n",
              "            downloaded += buffer.byteLength;\n",
              "            progress.value = downloaded;\n",
              "          }\n",
              "        }\n",
              "      }\n",
              "      const blob = new Blob(buffers, {type: 'application/binary'});\n",
              "      const a = document.createElement('a');\n",
              "      a.href = window.URL.createObjectURL(blob);\n",
              "      a.download = filename;\n",
              "      div.appendChild(a);\n",
              "      a.click();\n",
              "      div.remove();\n",
              "    }\n",
              "  "
            ],
            "text/plain": [
              "<IPython.core.display.Javascript object>"
            ]
          },
          "metadata": {
            "tags": []
          }
        },
        {
          "output_type": "display_data",
          "data": {
            "application/javascript": [
              "download(\"download_65ffe74a-dae3-4b59-8605-e265d8bb47bd\", \"logs.txt\", 7889)"
            ],
            "text/plain": [
              "<IPython.core.display.Javascript object>"
            ]
          },
          "metadata": {
            "tags": []
          }
        }
      ]
    },
    {
      "cell_type": "markdown",
      "metadata": {
        "id": "IoEfGy_AxDmb"
      },
      "source": [
        "# Analysis and TODO"
      ]
    },
    {
      "cell_type": "markdown",
      "metadata": {
        "id": "v5-DR4p_QJ8o"
      },
      "source": [
        "Count the number of successes.\n",
        "Some summary statistics of this type using binning should be plotted\n",
        "In general this could be useful to compare different polcies\n",
        "Please build a systematic set up"
      ]
    },
    {
      "cell_type": "markdown",
      "metadata": {
        "id": "m6yyJGq1J9Oh"
      },
      "source": [
        "Compare \n",
        "- Step size decrease (che e un concettoesistente in Deep lr ==> scheduler): è migliorativo?\n",
        "- behavioural policy: random o eps greedy?\n",
        "- Different rewards\n",
        "- Ragionare su perché il miglioramente non è costante, come invece vorrei,\n",
        "==> ho bisogno di generalizzare? no devo essere di successo solo su cio che ho visto in training\n",
        "Behaviour policy always exploring has been solution: try without.\n",
        "Nota: la ragione del comportamento oscillante da episodio a episodio è dovuto al fatto che gradient descent rischia di cadere in local optima ==> rallenta la convergenza a una policy ottimale. Quanto invece ho dei buoni seed esco di lì. \n",
        "Devo mediare o cosa? Posso anche mediare, ma dire che a noi serve un global optimum per trovare l'optimal path, non generalizzare. Chiedo a tizio.\n",
        "\n",
        "- Comparo diverse target policy da diversi behaviour!\n",
        "- testare experience replay per capire al meglio ogni stato. ==> mi serve o posso togliere?\n",
        "- Comparo numero di policy di successo rispetto a un approccio random: però la policy che imparo è imparata, il random no, cretino ==> quindi anche se e peggio in generale, basta sia buono una volta. Probabilmente il minimo che trovo è solo locale, ma è gia sufficiente, e il fatto che ne esca continuamente richiede soluzione a piu ampio spettro a cui non sono interessato ora"
      ]
    },
    {
      "cell_type": "markdown",
      "metadata": {
        "id": "Qj7dwCD0J9Oi"
      },
      "source": [
        "Run an inference every N episodes and monitor the optimality of the behaviour\n",
        "We could add experience replay, since after a certain number of new episodes it doesn't work well anymore"
      ]
    }
  ]
}