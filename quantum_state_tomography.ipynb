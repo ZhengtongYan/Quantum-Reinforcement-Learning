{
 "cells": [
  {
   "cell_type": "code",
   "execution_count": 17,
   "metadata": {},
   "outputs": [
    {
     "name": "stderr",
     "output_type": "stream",
     "text": [
      "ibmqfactory.load_account:WARNING:2021-06-24 12:47:37,929: Credentials are already in use. The existing account in the session will be replaced.\n"
     ]
    },
    {
     "name": "stdout",
     "output_type": "stream",
     "text": [
      "ibmq_qasm_simulator\n",
      "ibmqx2\n",
      "ibmq_16_melbourne\n",
      "ibmq_armonk\n",
      "ibmq_athens\n",
      "ibmq_santiago\n",
      "ibmq_lima\n",
      "ibmq_belem\n",
      "ibmq_quito\n",
      "simulator_statevector\n",
      "simulator_mps\n",
      "simulator_extended_stabilizer\n",
      "simulator_stabilizer\n",
      "ibmq_manila\n"
     ]
    }
   ],
   "source": [
    "import numpy as np\n",
    "import math\n",
    "import qiskit\n",
    "import warnings\n",
    "\n",
    "warnings.filterwarnings(\"ignore\")\n",
    "\n",
    "from qiskit import (\n",
    "    QuantumCircuit,\n",
    "    transpile,\n",
    "    Aer,\n",
    "    IBMQ,\n",
    "    QuantumRegister,\n",
    "    ClassicalRegister,\n",
    ")\n",
    "from qiskit.tools.jupyter import *\n",
    "from qiskit.visualization import *\n",
    "from ibm_quantum_widgets import *\n",
    "from qiskit.quantum_info import state_fidelity\n",
    "from qiskit import BasicAer\n",
    "from qiskit.ignis.verification import state_tomography_circuits\n",
    "from qiskit.ignis.verification.tomography import (\n",
    "    state_tomography_circuits,\n",
    "    StateTomographyFitter,\n",
    ")\n",
    "\n",
    "\n",
    "# Loading your IBM Quantum account(s)\n",
    "IBMQ.load_account()\n",
    "provider = IBMQ.get_provider(hub=\"ibm-q\")\n",
    "for backend in provider.backends():\n",
    "    print(backend)"
   ]
  },
  {
   "cell_type": "code",
   "execution_count": 18,
   "metadata": {},
   "outputs": [
    {
     "data": {
      "application/vnd.jupyter.widget-view+json": {
       "model_id": "093d08a3a19147588b0f7fca86a80554",
       "version_major": 2,
       "version_minor": 0
      },
      "text/plain": [
       "VBox(children=(HTML(value=\"<h1 style='color:#ffffff;background-color:#000000;padding-top: 1%;padding-bottom: 1…"
      ]
     },
     "metadata": {},
     "output_type": "display_data"
    },
    {
     "data": {
      "text/plain": [
       "<IBMQBackend('ibmq_athens') from IBMQ(hub='ibm-q', group='open', project='main')>"
      ]
     },
     "execution_count": 18,
     "metadata": {},
     "output_type": "execute_result"
    }
   ],
   "source": [
    "# Get a real device as backend\n",
    "real_device = provider.get_backend(\"ibmq_athens\")\n",
    "real_device"
   ]
  },
  {
   "cell_type": "markdown",
   "metadata": {},
   "source": [
    "# Tomography\n",
    "Reconstruct density matrix from quantum state tomography"
   ]
  },
  {
   "cell_type": "code",
   "execution_count": 19,
   "metadata": {},
   "outputs": [
    {
     "data": {
      "image/png": "[encoded data removed]",
      "text/plain": [
       "<Figure size 206.852x144.48 with 1 Axes>"
      ]
     },
     "execution_count": 19,
     "metadata": {},
     "output_type": "execute_result"
    }
   ],
   "source": [
    "qreg_q = QuantumRegister(2, \"q\")\n",
    "# creg_c = ClassicalRegister(1, 'c')\n",
    "qc = QuantumCircuit(qreg_q)\n",
    "qc.ry(math.pi / 2, qreg_q[0])\n",
    "qc.cx(qreg_q[0], qreg_q[1])\n",
    "qc.draw()"
   ]
  },
  {
   "cell_type": "code",
   "execution_count": 20,
   "metadata": {},
   "outputs": [
    {
     "data": {
      "image/png": "[encoded data removed]",
      "text/plain": [
       "<Figure size 447.652x204.68 with 1 Axes>"
      ]
     },
     "execution_count": 20,
     "metadata": {},
     "output_type": "execute_result"
    }
   ],
   "source": [
    "tomography_circuits = state_tomography_circuits(qc, qreg_q)\n",
    "tomography_circuits[0].draw()"
   ]
  },
  {
   "cell_type": "code",
   "execution_count": 22,
   "metadata": {},
   "outputs": [
    {
     "name": "stdout",
     "output_type": "stream",
     "text": [
      "CPU times: user 333 ms, sys: 202 ms, total: 536 ms\n",
      "Wall time: 1min 20s\n"
     ]
    }
   ],
   "source": [
    "%%time\n",
    "job = qiskit.execute(tomography_circuits, real_device, shots=8192)\n",
    "results = job.result()"
   ]
  },
  {
   "cell_type": "code",
   "execution_count": 25,
   "metadata": {},
   "outputs": [
    {
     "data": {
      "text/plain": [
       "array([[ 0.506+0.j   ,  0.002-0.017j, -0.001-0.017j,  0.461+0.012j],\n",
       "       [ 0.002+0.017j,  0.017+0.j   ,  0.001+0.004j, -0.003+0.013j],\n",
       "       [-0.001+0.017j,  0.001-0.004j,  0.02 +0.j   ,  0.001-0.001j],\n",
       "       [ 0.461-0.012j, -0.003-0.013j,  0.001+0.001j,  0.457+0.j   ]])"
      ]
     },
     "execution_count": 25,
     "metadata": {},
     "output_type": "execute_result"
    }
   ],
   "source": [
    "tomo_bell = StateTomographyFitter(results, tomography_circuits)\n",
    "# Perform the tomography fit\n",
    "# which outputs a density matrix\n",
    "rho_mle = tomo_bell.fit(method=\"lstsq\")\n",
    "np.around(rho_mle, 3)"
   ]
  },
  {
   "cell_type": "markdown",
   "metadata": {},
   "source": [
    "# Fidelity measure  \n",
    "Measure the fidelity between experimental and theoretical state"
   ]
  },
  {
   "cell_type": "code",
   "execution_count": 26,
   "metadata": {},
   "outputs": [
    {
     "data": {
      "image/png": "[encoded data removed]",
      "text/plain": [
       "<Figure size 233.249x144.48 with 1 Axes>"
      ]
     },
     "execution_count": 26,
     "metadata": {},
     "output_type": "execute_result"
    }
   ],
   "source": [
    "# Bell state: 1/2 * (|00> + |11>)\n",
    "qc_expected = QuantumCircuit(QuantumRegister(2))\n",
    "initial_state = [\n",
    "    math.sqrt(1 / 2),\n",
    "    0,\n",
    "    0,\n",
    "    math.sqrt(1 / 2),\n",
    "]  # Define initial_state as |1>\n",
    "qc_expected.initialize(initial_state)\n",
    "qc_expected.draw()"
   ]
  },
  {
   "cell_type": "code",
   "execution_count": 27,
   "metadata": {},
   "outputs": [
    {
     "data": {
      "text/plain": [
       "array([0.70710678+0.j, 0.        +0.j, 0.        +0.j, 0.70710678+0.j])"
      ]
     },
     "execution_count": 27,
     "metadata": {},
     "output_type": "execute_result"
    }
   ],
   "source": [
    "backend = BasicAer.get_backend(\"statevector_simulator\")\n",
    "job = qiskit.execute(qc_theory, backend)\n",
    "expected_state = job.result().get_statevector(qc_theory)\n",
    "expected_state"
   ]
  },
  {
   "cell_type": "code",
   "execution_count": 28,
   "metadata": {},
   "outputs": [
    {
     "data": {
      "text/plain": [
       "0.9426786513270475"
      ]
     },
     "execution_count": 28,
     "metadata": {},
     "output_type": "execute_result"
    }
   ],
   "source": [
    "state_fidelity(expected_state, rho_mle)"
   ]
  }
 ],
 "metadata": {
  "kernelspec": {
   "display_name": "Python 3",
   "language": "python",
   "name": "python3"
  },
  "language_info": {
   "codemirror_mode": {
    "name": "ipython",
    "version": 3
   },
   "file_extension": ".py",
   "mimetype": "text/x-python",
   "name": "python",
   "nbconvert_exporter": "python",
   "pygments_lexer": "ipython3",
   "version": "3.8.10"
  }
 },
 "nbformat": 4,
 "nbformat_minor": 4
}
